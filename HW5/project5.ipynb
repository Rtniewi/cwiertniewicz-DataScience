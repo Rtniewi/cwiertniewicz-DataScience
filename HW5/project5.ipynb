{
  "nbformat": 4,
  "nbformat_minor": 0,
  "metadata": {
    "colab": {
      "provenance": [],
      "authorship_tag": "ABX9TyPY67bLQ2ExnBX4qOnxTc/q",
      "include_colab_link": true
    },
    "kernelspec": {
      "name": "python3",
      "display_name": "Python 3"
    },
    "language_info": {
      "name": "python"
    }
  },
  "cells": [
    {
      "cell_type": "markdown",
      "metadata": {
        "id": "view-in-github",
        "colab_type": "text"
      },
      "source": [
        "<a href=\"https://colab.research.google.com/github/Rtniewi/cwiertniewicz-DataScience/blob/main/HW5/project5.ipynb\" target=\"_parent\"><img src=\"https://colab.research.google.com/assets/colab-badge.svg\" alt=\"Open In Colab\"/></a>"
      ]
    },
    {
      "cell_type": "markdown",
      "source": [
        "//*** Katrina Cwiertniewicz\n",
        "//*** Introduction to Data Science IS1\n",
        "//***10/6/2025\n",
        "//*** Project 5: Problem 1 Python\n",
        "###The purpose of this assignment is to demonstrate how we can use Naïve Bayes to clasify a response variable. This is to predict whether a wine is red or white based on if the wine has high or low alcohol or high or low sugar content."
      ],
      "metadata": {
        "id": "2xgXXv9qcTzF"
      }
    },
    {
      "cell_type": "markdown",
      "source": [
        "# **Problem 1**"
      ],
      "metadata": {
        "id": "8ybaIvfcctYQ"
      }
    },
    {
      "cell_type": "code",
      "source": [
        "import pandas as pd\n",
        "import numpy as np\n",
        "import matplotlib.pyplot as plt\n",
        "import seaborn as sns\n",
        "from sklearn import preprocessing\n",
        "from sklearn.naive_bayes import GaussianNB\n",
        "from sklearn.model_selection import train_test_split"
      ],
      "metadata": {
        "id": "FeC3VTK6gpnw"
      },
      "execution_count": 56,
      "outputs": []
    },
    {
      "cell_type": "code",
      "source": [
        "wine_contentDF  = pd.read_csv(\"https://raw.githubusercontent.com/bforoura/IDS/main/HW5/wine_flag_all.csv\");\n",
        "\n",
        "wine_contentDF"
      ],
      "metadata": {
        "colab": {
          "base_uri": "https://localhost:8080/",
          "height": 423
        },
        "id": "YqWMskNccxm_",
        "outputId": "a55b823f-bd27-44e9-e0ae-16745c164434"
      },
      "execution_count": 57,
      "outputs": [
        {
          "output_type": "execute_result",
          "data": {
            "text/plain": [
              "       Type Alcohol_flag Sugar_flag\n",
              "0       Red         High       High\n",
              "1       Red         High        Low\n",
              "2       Red          Low       High\n",
              "3       Red         High        Low\n",
              "4       Red          Low        Low\n",
              "...     ...          ...        ...\n",
              "3340  White         High       High\n",
              "3341  White         High        Low\n",
              "3342  White         High        Low\n",
              "3343  White         High        Low\n",
              "3344  White         High        Low\n",
              "\n",
              "[3345 rows x 3 columns]"
            ],
            "text/html": [
              "\n",
              "  <div id=\"df-5db603fb-512f-4845-8c62-09e8dbf7beb2\" class=\"colab-df-container\">\n",
              "    <div>\n",
              "<style scoped>\n",
              "    .dataframe tbody tr th:only-of-type {\n",
              "        vertical-align: middle;\n",
              "    }\n",
              "\n",
              "    .dataframe tbody tr th {\n",
              "        vertical-align: top;\n",
              "    }\n",
              "\n",
              "    .dataframe thead th {\n",
              "        text-align: right;\n",
              "    }\n",
              "</style>\n",
              "<table border=\"1\" class=\"dataframe\">\n",
              "  <thead>\n",
              "    <tr style=\"text-align: right;\">\n",
              "      <th></th>\n",
              "      <th>Type</th>\n",
              "      <th>Alcohol_flag</th>\n",
              "      <th>Sugar_flag</th>\n",
              "    </tr>\n",
              "  </thead>\n",
              "  <tbody>\n",
              "    <tr>\n",
              "      <th>0</th>\n",
              "      <td>Red</td>\n",
              "      <td>High</td>\n",
              "      <td>High</td>\n",
              "    </tr>\n",
              "    <tr>\n",
              "      <th>1</th>\n",
              "      <td>Red</td>\n",
              "      <td>High</td>\n",
              "      <td>Low</td>\n",
              "    </tr>\n",
              "    <tr>\n",
              "      <th>2</th>\n",
              "      <td>Red</td>\n",
              "      <td>Low</td>\n",
              "      <td>High</td>\n",
              "    </tr>\n",
              "    <tr>\n",
              "      <th>3</th>\n",
              "      <td>Red</td>\n",
              "      <td>High</td>\n",
              "      <td>Low</td>\n",
              "    </tr>\n",
              "    <tr>\n",
              "      <th>4</th>\n",
              "      <td>Red</td>\n",
              "      <td>Low</td>\n",
              "      <td>Low</td>\n",
              "    </tr>\n",
              "    <tr>\n",
              "      <th>...</th>\n",
              "      <td>...</td>\n",
              "      <td>...</td>\n",
              "      <td>...</td>\n",
              "    </tr>\n",
              "    <tr>\n",
              "      <th>3340</th>\n",
              "      <td>White</td>\n",
              "      <td>High</td>\n",
              "      <td>High</td>\n",
              "    </tr>\n",
              "    <tr>\n",
              "      <th>3341</th>\n",
              "      <td>White</td>\n",
              "      <td>High</td>\n",
              "      <td>Low</td>\n",
              "    </tr>\n",
              "    <tr>\n",
              "      <th>3342</th>\n",
              "      <td>White</td>\n",
              "      <td>High</td>\n",
              "      <td>Low</td>\n",
              "    </tr>\n",
              "    <tr>\n",
              "      <th>3343</th>\n",
              "      <td>White</td>\n",
              "      <td>High</td>\n",
              "      <td>Low</td>\n",
              "    </tr>\n",
              "    <tr>\n",
              "      <th>3344</th>\n",
              "      <td>White</td>\n",
              "      <td>High</td>\n",
              "      <td>Low</td>\n",
              "    </tr>\n",
              "  </tbody>\n",
              "</table>\n",
              "<p>3345 rows × 3 columns</p>\n",
              "</div>\n",
              "    <div class=\"colab-df-buttons\">\n",
              "\n",
              "  <div class=\"colab-df-container\">\n",
              "    <button class=\"colab-df-convert\" onclick=\"convertToInteractive('df-5db603fb-512f-4845-8c62-09e8dbf7beb2')\"\n",
              "            title=\"Convert this dataframe to an interactive table.\"\n",
              "            style=\"display:none;\">\n",
              "\n",
              "  <svg xmlns=\"http://www.w3.org/2000/svg\" height=\"24px\" viewBox=\"0 -960 960 960\">\n",
              "    <path d=\"M120-120v-720h720v720H120Zm60-500h600v-160H180v160Zm220 220h160v-160H400v160Zm0 220h160v-160H400v160ZM180-400h160v-160H180v160Zm440 0h160v-160H620v160ZM180-180h160v-160H180v160Zm440 0h160v-160H620v160Z\"/>\n",
              "  </svg>\n",
              "    </button>\n",
              "\n",
              "  <style>\n",
              "    .colab-df-container {\n",
              "      display:flex;\n",
              "      gap: 12px;\n",
              "    }\n",
              "\n",
              "    .colab-df-convert {\n",
              "      background-color: #E8F0FE;\n",
              "      border: none;\n",
              "      border-radius: 50%;\n",
              "      cursor: pointer;\n",
              "      display: none;\n",
              "      fill: #1967D2;\n",
              "      height: 32px;\n",
              "      padding: 0 0 0 0;\n",
              "      width: 32px;\n",
              "    }\n",
              "\n",
              "    .colab-df-convert:hover {\n",
              "      background-color: #E2EBFA;\n",
              "      box-shadow: 0px 1px 2px rgba(60, 64, 67, 0.3), 0px 1px 3px 1px rgba(60, 64, 67, 0.15);\n",
              "      fill: #174EA6;\n",
              "    }\n",
              "\n",
              "    .colab-df-buttons div {\n",
              "      margin-bottom: 4px;\n",
              "    }\n",
              "\n",
              "    [theme=dark] .colab-df-convert {\n",
              "      background-color: #3B4455;\n",
              "      fill: #D2E3FC;\n",
              "    }\n",
              "\n",
              "    [theme=dark] .colab-df-convert:hover {\n",
              "      background-color: #434B5C;\n",
              "      box-shadow: 0px 1px 3px 1px rgba(0, 0, 0, 0.15);\n",
              "      filter: drop-shadow(0px 1px 2px rgba(0, 0, 0, 0.3));\n",
              "      fill: #FFFFFF;\n",
              "    }\n",
              "  </style>\n",
              "\n",
              "    <script>\n",
              "      const buttonEl =\n",
              "        document.querySelector('#df-5db603fb-512f-4845-8c62-09e8dbf7beb2 button.colab-df-convert');\n",
              "      buttonEl.style.display =\n",
              "        google.colab.kernel.accessAllowed ? 'block' : 'none';\n",
              "\n",
              "      async function convertToInteractive(key) {\n",
              "        const element = document.querySelector('#df-5db603fb-512f-4845-8c62-09e8dbf7beb2');\n",
              "        const dataTable =\n",
              "          await google.colab.kernel.invokeFunction('convertToInteractive',\n",
              "                                                    [key], {});\n",
              "        if (!dataTable) return;\n",
              "\n",
              "        const docLinkHtml = 'Like what you see? Visit the ' +\n",
              "          '<a target=\"_blank\" href=https://colab.research.google.com/notebooks/data_table.ipynb>data table notebook</a>'\n",
              "          + ' to learn more about interactive tables.';\n",
              "        element.innerHTML = '';\n",
              "        dataTable['output_type'] = 'display_data';\n",
              "        await google.colab.output.renderOutput(dataTable, element);\n",
              "        const docLink = document.createElement('div');\n",
              "        docLink.innerHTML = docLinkHtml;\n",
              "        element.appendChild(docLink);\n",
              "      }\n",
              "    </script>\n",
              "  </div>\n",
              "\n",
              "\n",
              "    <div id=\"df-bb42285b-7b4f-48ea-8119-5a529b71298e\">\n",
              "      <button class=\"colab-df-quickchart\" onclick=\"quickchart('df-bb42285b-7b4f-48ea-8119-5a529b71298e')\"\n",
              "                title=\"Suggest charts\"\n",
              "                style=\"display:none;\">\n",
              "\n",
              "<svg xmlns=\"http://www.w3.org/2000/svg\" height=\"24px\"viewBox=\"0 0 24 24\"\n",
              "     width=\"24px\">\n",
              "    <g>\n",
              "        <path d=\"M19 3H5c-1.1 0-2 .9-2 2v14c0 1.1.9 2 2 2h14c1.1 0 2-.9 2-2V5c0-1.1-.9-2-2-2zM9 17H7v-7h2v7zm4 0h-2V7h2v10zm4 0h-2v-4h2v4z\"/>\n",
              "    </g>\n",
              "</svg>\n",
              "      </button>\n",
              "\n",
              "<style>\n",
              "  .colab-df-quickchart {\n",
              "      --bg-color: #E8F0FE;\n",
              "      --fill-color: #1967D2;\n",
              "      --hover-bg-color: #E2EBFA;\n",
              "      --hover-fill-color: #174EA6;\n",
              "      --disabled-fill-color: #AAA;\n",
              "      --disabled-bg-color: #DDD;\n",
              "  }\n",
              "\n",
              "  [theme=dark] .colab-df-quickchart {\n",
              "      --bg-color: #3B4455;\n",
              "      --fill-color: #D2E3FC;\n",
              "      --hover-bg-color: #434B5C;\n",
              "      --hover-fill-color: #FFFFFF;\n",
              "      --disabled-bg-color: #3B4455;\n",
              "      --disabled-fill-color: #666;\n",
              "  }\n",
              "\n",
              "  .colab-df-quickchart {\n",
              "    background-color: var(--bg-color);\n",
              "    border: none;\n",
              "    border-radius: 50%;\n",
              "    cursor: pointer;\n",
              "    display: none;\n",
              "    fill: var(--fill-color);\n",
              "    height: 32px;\n",
              "    padding: 0;\n",
              "    width: 32px;\n",
              "  }\n",
              "\n",
              "  .colab-df-quickchart:hover {\n",
              "    background-color: var(--hover-bg-color);\n",
              "    box-shadow: 0 1px 2px rgba(60, 64, 67, 0.3), 0 1px 3px 1px rgba(60, 64, 67, 0.15);\n",
              "    fill: var(--button-hover-fill-color);\n",
              "  }\n",
              "\n",
              "  .colab-df-quickchart-complete:disabled,\n",
              "  .colab-df-quickchart-complete:disabled:hover {\n",
              "    background-color: var(--disabled-bg-color);\n",
              "    fill: var(--disabled-fill-color);\n",
              "    box-shadow: none;\n",
              "  }\n",
              "\n",
              "  .colab-df-spinner {\n",
              "    border: 2px solid var(--fill-color);\n",
              "    border-color: transparent;\n",
              "    border-bottom-color: var(--fill-color);\n",
              "    animation:\n",
              "      spin 1s steps(1) infinite;\n",
              "  }\n",
              "\n",
              "  @keyframes spin {\n",
              "    0% {\n",
              "      border-color: transparent;\n",
              "      border-bottom-color: var(--fill-color);\n",
              "      border-left-color: var(--fill-color);\n",
              "    }\n",
              "    20% {\n",
              "      border-color: transparent;\n",
              "      border-left-color: var(--fill-color);\n",
              "      border-top-color: var(--fill-color);\n",
              "    }\n",
              "    30% {\n",
              "      border-color: transparent;\n",
              "      border-left-color: var(--fill-color);\n",
              "      border-top-color: var(--fill-color);\n",
              "      border-right-color: var(--fill-color);\n",
              "    }\n",
              "    40% {\n",
              "      border-color: transparent;\n",
              "      border-right-color: var(--fill-color);\n",
              "      border-top-color: var(--fill-color);\n",
              "    }\n",
              "    60% {\n",
              "      border-color: transparent;\n",
              "      border-right-color: var(--fill-color);\n",
              "    }\n",
              "    80% {\n",
              "      border-color: transparent;\n",
              "      border-right-color: var(--fill-color);\n",
              "      border-bottom-color: var(--fill-color);\n",
              "    }\n",
              "    90% {\n",
              "      border-color: transparent;\n",
              "      border-bottom-color: var(--fill-color);\n",
              "    }\n",
              "  }\n",
              "</style>\n",
              "\n",
              "      <script>\n",
              "        async function quickchart(key) {\n",
              "          const quickchartButtonEl =\n",
              "            document.querySelector('#' + key + ' button');\n",
              "          quickchartButtonEl.disabled = true;  // To prevent multiple clicks.\n",
              "          quickchartButtonEl.classList.add('colab-df-spinner');\n",
              "          try {\n",
              "            const charts = await google.colab.kernel.invokeFunction(\n",
              "                'suggestCharts', [key], {});\n",
              "          } catch (error) {\n",
              "            console.error('Error during call to suggestCharts:', error);\n",
              "          }\n",
              "          quickchartButtonEl.classList.remove('colab-df-spinner');\n",
              "          quickchartButtonEl.classList.add('colab-df-quickchart-complete');\n",
              "        }\n",
              "        (() => {\n",
              "          let quickchartButtonEl =\n",
              "            document.querySelector('#df-bb42285b-7b4f-48ea-8119-5a529b71298e button');\n",
              "          quickchartButtonEl.style.display =\n",
              "            google.colab.kernel.accessAllowed ? 'block' : 'none';\n",
              "        })();\n",
              "      </script>\n",
              "    </div>\n",
              "\n",
              "  <div id=\"id_949c86be-172c-4724-ba0d-5c969a907fda\">\n",
              "    <style>\n",
              "      .colab-df-generate {\n",
              "        background-color: #E8F0FE;\n",
              "        border: none;\n",
              "        border-radius: 50%;\n",
              "        cursor: pointer;\n",
              "        display: none;\n",
              "        fill: #1967D2;\n",
              "        height: 32px;\n",
              "        padding: 0 0 0 0;\n",
              "        width: 32px;\n",
              "      }\n",
              "\n",
              "      .colab-df-generate:hover {\n",
              "        background-color: #E2EBFA;\n",
              "        box-shadow: 0px 1px 2px rgba(60, 64, 67, 0.3), 0px 1px 3px 1px rgba(60, 64, 67, 0.15);\n",
              "        fill: #174EA6;\n",
              "      }\n",
              "\n",
              "      [theme=dark] .colab-df-generate {\n",
              "        background-color: #3B4455;\n",
              "        fill: #D2E3FC;\n",
              "      }\n",
              "\n",
              "      [theme=dark] .colab-df-generate:hover {\n",
              "        background-color: #434B5C;\n",
              "        box-shadow: 0px 1px 3px 1px rgba(0, 0, 0, 0.15);\n",
              "        filter: drop-shadow(0px 1px 2px rgba(0, 0, 0, 0.3));\n",
              "        fill: #FFFFFF;\n",
              "      }\n",
              "    </style>\n",
              "    <button class=\"colab-df-generate\" onclick=\"generateWithVariable('wine_contentDF')\"\n",
              "            title=\"Generate code using this dataframe.\"\n",
              "            style=\"display:none;\">\n",
              "\n",
              "  <svg xmlns=\"http://www.w3.org/2000/svg\" height=\"24px\"viewBox=\"0 0 24 24\"\n",
              "       width=\"24px\">\n",
              "    <path d=\"M7,19H8.4L18.45,9,17,7.55,7,17.6ZM5,21V16.75L18.45,3.32a2,2,0,0,1,2.83,0l1.4,1.43a1.91,1.91,0,0,1,.58,1.4,1.91,1.91,0,0,1-.58,1.4L9.25,21ZM18.45,9,17,7.55Zm-12,3A5.31,5.31,0,0,0,4.9,8.1,5.31,5.31,0,0,0,1,6.5,5.31,5.31,0,0,0,4.9,4.9,5.31,5.31,0,0,0,6.5,1,5.31,5.31,0,0,0,8.1,4.9,5.31,5.31,0,0,0,12,6.5,5.46,5.46,0,0,0,6.5,12Z\"/>\n",
              "  </svg>\n",
              "    </button>\n",
              "    <script>\n",
              "      (() => {\n",
              "      const buttonEl =\n",
              "        document.querySelector('#id_949c86be-172c-4724-ba0d-5c969a907fda button.colab-df-generate');\n",
              "      buttonEl.style.display =\n",
              "        google.colab.kernel.accessAllowed ? 'block' : 'none';\n",
              "\n",
              "      buttonEl.onclick = () => {\n",
              "        google.colab.notebook.generateWithVariable('wine_contentDF');\n",
              "      }\n",
              "      })();\n",
              "    </script>\n",
              "  </div>\n",
              "\n",
              "    </div>\n",
              "  </div>\n"
            ],
            "application/vnd.google.colaboratory.intrinsic+json": {
              "type": "dataframe",
              "variable_name": "wine_contentDF",
              "summary": "{\n  \"name\": \"wine_contentDF\",\n  \"rows\": 3345,\n  \"fields\": [\n    {\n      \"column\": \"Type\",\n      \"properties\": {\n        \"dtype\": \"category\",\n        \"num_unique_values\": 2,\n        \"samples\": [\n          \"White\",\n          \"Red\"\n        ],\n        \"semantic_type\": \"\",\n        \"description\": \"\"\n      }\n    },\n    {\n      \"column\": \"Alcohol_flag\",\n      \"properties\": {\n        \"dtype\": \"category\",\n        \"num_unique_values\": 2,\n        \"samples\": [\n          \"Low\",\n          \"High\"\n        ],\n        \"semantic_type\": \"\",\n        \"description\": \"\"\n      }\n    },\n    {\n      \"column\": \"Sugar_flag\",\n      \"properties\": {\n        \"dtype\": \"category\",\n        \"num_unique_values\": 2,\n        \"samples\": [\n          \"Low\",\n          \"High\"\n        ],\n        \"semantic_type\": \"\",\n        \"description\": \"\"\n      }\n    }\n  ]\n}"
            }
          },
          "metadata": {},
          "execution_count": 57
        }
      ]
    },
    {
      "cell_type": "markdown",
      "source": [
        "**Test for presence of any missing attribute/target values and impute as necessary.**"
      ],
      "metadata": {
        "id": "brbSvL_QgvL9"
      }
    },
    {
      "cell_type": "code",
      "source": [
        "wine_contentDF.isnull().sum()"
      ],
      "metadata": {
        "colab": {
          "base_uri": "https://localhost:8080/",
          "height": 178
        },
        "id": "OAvUZ30xDSiJ",
        "outputId": "f5b9e61a-7fff-4e81-fab3-e4b98af1f31b"
      },
      "execution_count": 58,
      "outputs": [
        {
          "output_type": "execute_result",
          "data": {
            "text/plain": [
              "Type            0\n",
              "Alcohol_flag    0\n",
              "Sugar_flag      0\n",
              "dtype: int64"
            ],
            "text/html": [
              "<div>\n",
              "<style scoped>\n",
              "    .dataframe tbody tr th:only-of-type {\n",
              "        vertical-align: middle;\n",
              "    }\n",
              "\n",
              "    .dataframe tbody tr th {\n",
              "        vertical-align: top;\n",
              "    }\n",
              "\n",
              "    .dataframe thead th {\n",
              "        text-align: right;\n",
              "    }\n",
              "</style>\n",
              "<table border=\"1\" class=\"dataframe\">\n",
              "  <thead>\n",
              "    <tr style=\"text-align: right;\">\n",
              "      <th></th>\n",
              "      <th>0</th>\n",
              "    </tr>\n",
              "  </thead>\n",
              "  <tbody>\n",
              "    <tr>\n",
              "      <th>Type</th>\n",
              "      <td>0</td>\n",
              "    </tr>\n",
              "    <tr>\n",
              "      <th>Alcohol_flag</th>\n",
              "      <td>0</td>\n",
              "    </tr>\n",
              "    <tr>\n",
              "      <th>Sugar_flag</th>\n",
              "      <td>0</td>\n",
              "    </tr>\n",
              "  </tbody>\n",
              "</table>\n",
              "</div><br><label><b>dtype:</b> int64</label>"
            ]
          },
          "metadata": {},
          "execution_count": 58
        }
      ]
    },
    {
      "cell_type": "markdown",
      "source": [
        "There are no missing attributes or target values."
      ],
      "metadata": {
        "id": "Gw_gK4vxEc2u"
      }
    },
    {
      "cell_type": "markdown",
      "source": [
        "**Encode all categoric attributes(e.g. label encoding or ordinal encoding, etc.)**"
      ],
      "metadata": {
        "id": "Ebe6YNAtg4b1"
      }
    },
    {
      "cell_type": "code",
      "source": [
        "le = preprocessing.LabelEncoder()\n",
        "\n",
        "# save the encoded dataframe here\n",
        "encoded_wine_contentDF = pd.DataFrame()\n",
        "\n",
        "# Encode  only the categoric or boolean attributes\n",
        "for i in range(0, wine_contentDF.shape[1]):\n",
        "    if wine_contentDF.dtypes[i]=='object' or wine_contentDF.dtypes[i]=='bool':\n",
        "        encoded_wine_contentDF[wine_contentDF.columns[i]] = le.fit_transform(wine_contentDF[wine_contentDF.columns[i]])\n",
        "\n",
        "\n",
        "\n",
        "print(\"-=========================\")\n",
        "print(wine_contentDF)\n",
        "print(\"-=========================\")\n",
        "print(encoded_wine_contentDF)"
      ],
      "metadata": {
        "colab": {
          "base_uri": "https://localhost:8080/"
        },
        "id": "DsFMsHk3E6U-",
        "outputId": "69c55017-31e0-4f02-e4bf-6fb21216ab5c"
      },
      "execution_count": 59,
      "outputs": [
        {
          "output_type": "stream",
          "name": "stdout",
          "text": [
            "-=========================\n",
            "       Type Alcohol_flag Sugar_flag\n",
            "0       Red         High       High\n",
            "1       Red         High        Low\n",
            "2       Red          Low       High\n",
            "3       Red         High        Low\n",
            "4       Red          Low        Low\n",
            "...     ...          ...        ...\n",
            "3340  White         High       High\n",
            "3341  White         High        Low\n",
            "3342  White         High        Low\n",
            "3343  White         High        Low\n",
            "3344  White         High        Low\n",
            "\n",
            "[3345 rows x 3 columns]\n",
            "-=========================\n",
            "      Type  Alcohol_flag  Sugar_flag\n",
            "0        0             0           0\n",
            "1        0             0           1\n",
            "2        0             1           0\n",
            "3        0             0           1\n",
            "4        0             1           1\n",
            "...    ...           ...         ...\n",
            "3340     1             0           0\n",
            "3341     1             0           1\n",
            "3342     1             0           1\n",
            "3343     1             0           1\n",
            "3344     1             0           1\n",
            "\n",
            "[3345 rows x 3 columns]\n"
          ]
        },
        {
          "output_type": "stream",
          "name": "stderr",
          "text": [
            "/tmp/ipython-input-2193739632.py:8: FutureWarning: Series.__getitem__ treating keys as positions is deprecated. In a future version, integer keys will always be treated as labels (consistent with DataFrame behavior). To access a value by position, use `ser.iloc[pos]`\n",
            "  if wine_contentDF.dtypes[i]=='object' or wine_contentDF.dtypes[i]=='bool':\n",
            "/tmp/ipython-input-2193739632.py:8: FutureWarning: Series.__getitem__ treating keys as positions is deprecated. In a future version, integer keys will always be treated as labels (consistent with DataFrame behavior). To access a value by position, use `ser.iloc[pos]`\n",
            "  if wine_contentDF.dtypes[i]=='object' or wine_contentDF.dtypes[i]=='bool':\n",
            "/tmp/ipython-input-2193739632.py:8: FutureWarning: Series.__getitem__ treating keys as positions is deprecated. In a future version, integer keys will always be treated as labels (consistent with DataFrame behavior). To access a value by position, use `ser.iloc[pos]`\n",
            "  if wine_contentDF.dtypes[i]=='object' or wine_contentDF.dtypes[i]=='bool':\n"
          ]
        }
      ]
    },
    {
      "cell_type": "markdown",
      "source": [
        "**Create contingency tables (cross tabulations) for:**"
      ],
      "metadata": {
        "id": "invr10vWhBKz"
      }
    },
    {
      "cell_type": "markdown",
      "source": [
        "**a. Type vs. Alcohol Content**"
      ],
      "metadata": {
        "id": "XYUITyP5hNqr"
      }
    },
    {
      "cell_type": "code",
      "source": [
        "# Cross tabulation of Type and Alcohol Content\n",
        "\n",
        "p_crosstab_1 = pd.crosstab(wine_contentDF.Type, wine_contentDF.Alcohol_flag)\n",
        "\n",
        "print(p_crosstab_1)\n"
      ],
      "metadata": {
        "colab": {
          "base_uri": "https://localhost:8080/"
        },
        "id": "NYd_RTB-GNHI",
        "outputId": "24852450-fad9-4780-8037-84aab54a4cb0"
      },
      "execution_count": 60,
      "outputs": [
        {
          "output_type": "stream",
          "name": "stdout",
          "text": [
            "Alcohol_flag  High   Low\n",
            "Type                    \n",
            "Red            485   600\n",
            "White         1176  1084\n"
          ]
        }
      ]
    },
    {
      "cell_type": "markdown",
      "source": [
        "**b. Type vs. Sugar Content**"
      ],
      "metadata": {
        "id": "TIMbXGm5hSDn"
      }
    },
    {
      "cell_type": "code",
      "source": [
        "# Cross tabulation of Type and Sugar Content\n",
        "\n",
        "p_crosstab_2 = pd.crosstab(wine_contentDF.Type, wine_contentDF.Sugar_flag)\n",
        "\n",
        "print(p_crosstab_2)"
      ],
      "metadata": {
        "colab": {
          "base_uri": "https://localhost:8080/"
        },
        "id": "0PotGKE2G41t",
        "outputId": "bf5a0074-5220-4ea6-ce48-1a9ca93d208a"
      },
      "execution_count": 61,
      "outputs": [
        {
          "output_type": "stream",
          "name": "stdout",
          "text": [
            "Sugar_flag  High  Low\n",
            "Type                 \n",
            "Red          237  848\n",
            "White       1382  878\n"
          ]
        }
      ]
    },
    {
      "cell_type": "markdown",
      "source": [
        "**Plot the two cross tabulations obtained in Step 5**"
      ],
      "metadata": {
        "id": "hQvbwvumhZDz"
      }
    },
    {
      "cell_type": "markdown",
      "source": [
        "**Alcohol Content and Type**"
      ],
      "metadata": {
        "id": "2qZu0yiSv12G"
      }
    },
    {
      "cell_type": "code",
      "source": [
        "alcohol_type_table = p_crosstab_1.plot(kind=\"bar\", stacked=False, color=['tomato','lightgreen'])\n",
        "alcohol_type_table.legend(title='Alcohol Content', bbox_to_anchor=(1, 1.02), loc='upper left')"
      ],
      "metadata": {
        "colab": {
          "base_uri": "https://localhost:8080/",
          "height": 493
        },
        "id": "CzNi9uvrt49P",
        "outputId": "b49cc767-05a0-4415-dff8-bf8579e14ea6"
      },
      "execution_count": 136,
      "outputs": [
        {
          "output_type": "execute_result",
          "data": {
            "text/plain": [
              "<matplotlib.legend.Legend at 0x7a9878a1d880>"
            ]
          },
          "metadata": {},
          "execution_count": 136
        },
        {
          "output_type": "display_data",
          "data": {
            "text/plain": [
              "<Figure size 640x480 with 1 Axes>"
            ],
            "image/png": "[encoded data removed]"
          },
          "metadata": {}
        }
      ]
    },
    {
      "cell_type": "markdown",
      "source": [
        "**Sugar Content and Type**"
      ],
      "metadata": {
        "id": "x5vdgG7_v-LG"
      }
    },
    {
      "cell_type": "code",
      "source": [
        "sugar_type_table = p_crosstab_2.plot(kind=\"bar\", stacked=False, color=['tomato','lightgreen'])\n",
        "sugar_type_table.legend(title='Sugar Content', bbox_to_anchor=(1, 1.02), loc='upper left')"
      ],
      "metadata": {
        "colab": {
          "base_uri": "https://localhost:8080/",
          "height": 493
        },
        "id": "GJH4-3pjvt3m",
        "outputId": "daf5ce1b-e6ee-41ca-a2b0-f4a301c86d52"
      },
      "execution_count": 137,
      "outputs": [
        {
          "output_type": "execute_result",
          "data": {
            "text/plain": [
              "<matplotlib.legend.Legend at 0x7a9878d6c8c0>"
            ]
          },
          "metadata": {},
          "execution_count": 137
        },
        {
          "output_type": "display_data",
          "data": {
            "text/plain": [
              "<Figure size 640x480 with 1 Axes>"
            ],
            "image/png": "[encoded data removed]"
          },
          "metadata": {}
        }
      ]
    },
    {
      "cell_type": "markdown",
      "source": [
        "**Alcohol Content, Sugar Content, and Type**"
      ],
      "metadata": {
        "id": "mC64XML9wBde"
      }
    },
    {
      "cell_type": "code",
      "source": [
        "alcohol_sugar_type_table = pd.crosstab([wine_contentDF.Alcohol_flag, wine_contentDF.Sugar_flag], wine_contentDF.Type, margins=False)\n",
        "\n",
        "ax = alcohol_sugar_type_table.plot(kind=\"bar\", stacked=False, color=['darkred','palegoldenrod'])\n",
        "ax.legend(title='Wine Type', bbox_to_anchor=(1, 1.02), loc='upper left')\n",
        ""
      ],
      "metadata": {
        "colab": {
          "base_uri": "https://localhost:8080/",
          "height": 536
        },
        "id": "WlctAGE6Him8",
        "outputId": "dc243701-a83c-4388-ea15-c84bb439bbe1"
      },
      "execution_count": 130,
      "outputs": [
        {
          "output_type": "execute_result",
          "data": {
            "text/plain": [
              "<matplotlib.legend.Legend at 0x7a9879676cc0>"
            ]
          },
          "metadata": {},
          "execution_count": 130
        },
        {
          "output_type": "display_data",
          "data": {
            "text/plain": [
              "<Figure size 640x480 with 1 Axes>"
            ],
            "image/png": "[encoded data removed]"
          },
          "metadata": {}
        }
      ]
    },
    {
      "cell_type": "markdown",
      "source": [
        "**Use the tables from the previous step to calculate:**"
      ],
      "metadata": {
        "id": "9YPh3ylmhdo4"
      }
    },
    {
      "cell_type": "markdown",
      "source": [
        "**a. The prior probability of Type = Red and Type = White.**"
      ],
      "metadata": {
        "id": "CWorHokkhlPA"
      }
    },
    {
      "cell_type": "code",
      "source": [
        "red_prior_prob = p_crosstab_1.loc['Red'].sum()/p_crosstab_1.values.sum()\n",
        "white_prior_prob = p_crosstab_1.loc['White'].sum()/p_crosstab_1.values.sum()\n",
        "\n",
        "print(\"Prior Probability of Type=Red\", red_prior_prob)\n",
        "print(\"Prior Probability of Type=White\", white_prior_prob)"
      ],
      "metadata": {
        "colab": {
          "base_uri": "https://localhost:8080/"
        },
        "id": "DBGRHml9xN6h",
        "outputId": "eb63668d-e99a-49dd-92eb-ff822f22e65c"
      },
      "execution_count": 102,
      "outputs": [
        {
          "output_type": "stream",
          "name": "stdout",
          "text": [
            "Prior Probability of Type=Red 0.3243647234678625\n",
            "Prior Probability of Type=White 0.6756352765321375\n"
          ]
        }
      ]
    },
    {
      "cell_type": "markdown",
      "source": [
        "**b. The probability of high and low alcohol content.**"
      ],
      "metadata": {
        "id": "GqS0T3UAhyoj"
      }
    },
    {
      "cell_type": "code",
      "source": [
        "high_alcohol_prob = p_crosstab_1['High'].sum()/p_crosstab_1.values.sum()\n",
        "low_alcohol_prob = p_crosstab_1['Low'].sum()/p_crosstab_1.values.sum()\n",
        "\n",
        "print(\"Probability of High\", high_alcohol_prob)\n",
        "print(\"Probability of Low\", low_alcohol_prob)"
      ],
      "metadata": {
        "colab": {
          "base_uri": "https://localhost:8080/"
        },
        "id": "lRMfD_8IBpcd",
        "outputId": "fcd64af4-907f-4ee3-94fd-863ee4570f5e"
      },
      "execution_count": 107,
      "outputs": [
        {
          "output_type": "stream",
          "name": "stdout",
          "text": [
            "Probability of High 0.49656203288490286\n",
            "Probability of Low 0.5034379671150971\n"
          ]
        }
      ]
    },
    {
      "cell_type": "markdown",
      "source": [
        "**c. The probability of high and low sugar content.**"
      ],
      "metadata": {
        "id": "W8X9GeYUh7_R"
      }
    },
    {
      "cell_type": "code",
      "source": [
        "high_sugar_prob = p_crosstab_2['High'].sum()/p_crosstab_2.values.sum()\n",
        "low_sugar_prob = p_crosstab_2['Low'].sum()/p_crosstab_2.values.sum()\n",
        "\n",
        "print(\"Probability of High\", high_sugar_prob)\n",
        "print(\"Probability of Low\", low_sugar_prob)"
      ],
      "metadata": {
        "colab": {
          "base_uri": "https://localhost:8080/"
        },
        "id": "bWSMBDOXEzJE",
        "outputId": "832a353a-ca65-49df-dff0-a4b5fd88ecce"
      },
      "execution_count": 122,
      "outputs": [
        {
          "output_type": "stream",
          "name": "stdout",
          "text": [
            "Probability of High 0.48400597907324366\n",
            "Probability of Low 0.5159940209267564\n"
          ]
        }
      ]
    },
    {
      "cell_type": "markdown",
      "source": [
        "**d. The conditional probabilities p(Alcohol_flag = High | Type = Red).and p(Alcohol_flag = Low | Type = Red)**"
      ],
      "metadata": {
        "id": "a6yKAroDiAme"
      }
    },
    {
      "cell_type": "code",
      "source": [
        "high_alcohol_cond_prob = p_crosstab_1.loc['Red','High']/p_crosstab_1.loc['Red'].sum()\n",
        "low_alcohol_cond_prob = p_crosstab_1.loc['Red','Low']/p_crosstab_1.loc['Red'].sum()\n",
        "\n",
        "print(\"Conditional Probabiltiy of Red with High Alcohol Content\", high_alcohol_cond_prob)\n",
        "print(\"Conditional Probabiltiy of Red with Low Alcohol Content\", low_alcohol_cond_prob)"
      ],
      "metadata": {
        "colab": {
          "base_uri": "https://localhost:8080/"
        },
        "id": "pwVXlxmRT8BM",
        "outputId": "c8a4ccee-47de-44cd-e48e-92d0bcd6c2ba"
      },
      "execution_count": 138,
      "outputs": [
        {
          "output_type": "stream",
          "name": "stdout",
          "text": [
            "Conditional Probabiltiy of Red with High Alcohol Content 0.4470046082949309\n",
            "Conditional Probabiltiy of Red with Low Alcohol Content 0.5529953917050692\n"
          ]
        }
      ]
    },
    {
      "cell_type": "markdown",
      "source": [
        "**e. The conditional probabilities p(Sugar_flag = High | Type = Red).and p(Sugar_flag = Low | Type = Red)**"
      ],
      "metadata": {
        "id": "e85pNXZxiOK1"
      }
    },
    {
      "cell_type": "code",
      "source": [
        "high_sugar_cond_prob = p_crosstab_2.loc['Red','High']/p_crosstab_2.loc['Red'].sum()\n",
        "low_sugar_cond_prob = p_crosstab_2.loc['Red','Low']/p_crosstab_2.loc['Red'].sum()\n",
        "\n",
        "print(\"Conditional Probabiltiy of Red with High Sugar Content\", high_sugar_cond_prob)\n",
        "print(\"Conditional Probabiltiy of Red with Low Sugar Content\", low_sugar_cond_prob)"
      ],
      "metadata": {
        "colab": {
          "base_uri": "https://localhost:8080/"
        },
        "id": "BtZNiwh9WaAu",
        "outputId": "9be6dcc8-8a70-4587-acf8-67b7f92c0e60"
      },
      "execution_count": 120,
      "outputs": [
        {
          "output_type": "stream",
          "name": "stdout",
          "text": [
            "Conditional Probabiltiy of Red with High Sugar Content 0.2184331797235023\n",
            "Conditional Probabiltiy of Red with Low Sugar Content 0.7815668202764977\n"
          ]
        }
      ]
    },
    {
      "cell_type": "markdown",
      "source": [
        "**Create appropriate NB classifier and record their accuracy on various training/test ratios, e.g., 80-20, 75-25, 70-30, 60-40, 50-50. Be sure to shuffle and stratify the data sets.**"
      ],
      "metadata": {
        "id": "V17janiUivNF"
      }
    },
    {
      "cell_type": "markdown",
      "source": [
        "**80-20**"
      ],
      "metadata": {
        "id": "nrHGBohI1OOn"
      }
    },
    {
      "cell_type": "code",
      "source": [
        "NBmodel1 = GaussianNB()\n",
        "\n",
        "# Prepare input and output for learning\n",
        "X = encoded_wine_contentDF.iloc[:,1:3]\n",
        "y = encoded_wine_contentDF.iloc[:,0]\n",
        "\n",
        "# In order to have the same proportion of 0 and 1 classes in a dataset to train, use 'stratify'\n",
        "X_train, X_test, y_train, y_test = \\\n",
        "    train_test_split(X, y, random_state=42, shuffle=True, test_size=0.20, stratify=y)\n",
        "\n",
        "# Display the sets\n",
        "print(X_train)\n",
        "print(X_test)"
      ],
      "metadata": {
        "colab": {
          "base_uri": "https://localhost:8080/"
        },
        "id": "vypj_c00xnXD",
        "outputId": "76cdda33-5629-4a4f-d071-a63723d9847d"
      },
      "execution_count": 66,
      "outputs": [
        {
          "output_type": "stream",
          "name": "stdout",
          "text": [
            "      Alcohol_flag  Sugar_flag\n",
            "2688             0           1\n",
            "1824             1           0\n",
            "2483             0           0\n",
            "935              1           1\n",
            "2017             1           0\n",
            "...            ...         ...\n",
            "2650             0           1\n",
            "2246             1           1\n",
            "3001             0           1\n",
            "11               1           1\n",
            "2854             0           1\n",
            "\n",
            "[2676 rows x 2 columns]\n",
            "      Alcohol_flag  Sugar_flag\n",
            "288              0           1\n",
            "3047             0           1\n",
            "2197             1           1\n",
            "3132             0           0\n",
            "682              1           0\n",
            "...            ...         ...\n",
            "864              0           1\n",
            "2505             0           0\n",
            "232              1           1\n",
            "2467             0           0\n",
            "2634             0           0\n",
            "\n",
            "[669 rows x 2 columns]\n"
          ]
        }
      ]
    },
    {
      "cell_type": "code",
      "source": [
        "# Train the model\n",
        "NBmodel1.fit(X_train, y_train)\n",
        "\n",
        "# Calculate model accuracy on both training and test data\n",
        "labels = [\"Training\", \"Test\"]\n",
        "scores1 = [NBmodel1.score(X_train, y_train), NBmodel1.score(X_test, y_test)]"
      ],
      "metadata": {
        "id": "Ku4k4NdZzH9p"
      },
      "execution_count": 67,
      "outputs": []
    },
    {
      "cell_type": "markdown",
      "source": [
        "**75-25**"
      ],
      "metadata": {
        "id": "zcRxMhXy1R5U"
      }
    },
    {
      "cell_type": "code",
      "source": [
        "NBmodel2 = GaussianNB()\n",
        "\n",
        "# Prepare input and output for learning\n",
        "X = encoded_wine_contentDF.iloc[:,1:3]\n",
        "y = encoded_wine_contentDF.iloc[:,0]\n",
        "\n",
        "# In order to have the same proportion of 0 and 1 classes in a dataset to train, use 'stratify'\n",
        "X_train, X_test, y_train, y_test = \\\n",
        "    train_test_split(X, y, random_state=42, shuffle=True, test_size=0.25, stratify=y)\n",
        "\n",
        "# Display the sets\n",
        "print(X_train)\n",
        "print(X_test)"
      ],
      "metadata": {
        "colab": {
          "base_uri": "https://localhost:8080/"
        },
        "id": "EVop09zZ1lVn",
        "outputId": "8ae277d2-bc6b-4ed2-b49b-876bd73c4a26"
      },
      "execution_count": 68,
      "outputs": [
        {
          "output_type": "stream",
          "name": "stdout",
          "text": [
            "      Alcohol_flag  Sugar_flag\n",
            "1184             1           0\n",
            "2433             1           0\n",
            "2765             0           1\n",
            "2217             1           1\n",
            "1555             0           0\n",
            "...            ...         ...\n",
            "2017             1           0\n",
            "3106             0           1\n",
            "2428             1           0\n",
            "11               1           1\n",
            "2343             1           1\n",
            "\n",
            "[2508 rows x 2 columns]\n",
            "      Alcohol_flag  Sugar_flag\n",
            "2253             1           0\n",
            "2797             0           0\n",
            "1005             1           1\n",
            "3264             0           0\n",
            "463              1           1\n",
            "...            ...         ...\n",
            "540              0           0\n",
            "855              0           1\n",
            "1862             1           0\n",
            "1619             1           0\n",
            "1719             1           0\n",
            "\n",
            "[837 rows x 2 columns]\n"
          ]
        }
      ]
    },
    {
      "cell_type": "code",
      "source": [
        "# Train the model\n",
        "NBmodel2.fit(X_train, y_train)\n",
        "\n",
        "# Calculate model accuracy on both training and test data\n",
        "labels = [\"Training\", \"Test\"]\n",
        "scores2 = [NBmodel2.score(X_train, y_train), NBmodel2.score(X_test, y_test)]"
      ],
      "metadata": {
        "id": "f0sL7mwx1qMp"
      },
      "execution_count": 69,
      "outputs": []
    },
    {
      "cell_type": "markdown",
      "source": [
        "**70-30**"
      ],
      "metadata": {
        "id": "qWI7maqa1VSD"
      }
    },
    {
      "cell_type": "code",
      "source": [
        "NBmodel3 = GaussianNB()\n",
        "\n",
        "# Prepare input and output for learning\n",
        "X = encoded_wine_contentDF.iloc[:,1:3]\n",
        "y = encoded_wine_contentDF.iloc[:,0]\n",
        "\n",
        "# In order to have the same proportion of 0 and 1 classes in a dataset to train, use 'stratify'\n",
        "X_train, X_test, y_train, y_test = \\\n",
        "    train_test_split(X, y, random_state=42, shuffle=True, test_size=0.30, stratify=y)\n",
        "\n",
        "# Display the sets\n",
        "print(X_train)\n",
        "print(X_test)"
      ],
      "metadata": {
        "colab": {
          "base_uri": "https://localhost:8080/"
        },
        "id": "uUl31RAC1mTC",
        "outputId": "bae95242-8a7b-4186-b0ba-65585ba5b255"
      },
      "execution_count": 70,
      "outputs": [
        {
          "output_type": "stream",
          "name": "stdout",
          "text": [
            "      Alcohol_flag  Sugar_flag\n",
            "1768             1           0\n",
            "1792             1           1\n",
            "413              1           0\n",
            "1610             1           0\n",
            "1671             1           0\n",
            "...            ...         ...\n",
            "522              1           0\n",
            "893              1           0\n",
            "1924             1           1\n",
            "11               1           1\n",
            "1868             1           1\n",
            "\n",
            "[2341 rows x 2 columns]\n",
            "      Alcohol_flag  Sugar_flag\n",
            "1389             0           0\n",
            "1899             1           0\n",
            "162              1           1\n",
            "1889             1           0\n",
            "2982             0           0\n",
            "...            ...         ...\n",
            "941              0           0\n",
            "3223             0           0\n",
            "3219             0           1\n",
            "2221             1           0\n",
            "205              0           0\n",
            "\n",
            "[1004 rows x 2 columns]\n"
          ]
        }
      ]
    },
    {
      "cell_type": "code",
      "source": [
        "# Train the model\n",
        "NBmodel3.fit(X_train, y_train)\n",
        "\n",
        "# Calculate model accuracy on both training and test data\n",
        "labels = [\"Training\", \"Test\"]\n",
        "scores3 = [NBmodel3.score(X_train, y_train), NBmodel3.score(X_test, y_test)]"
      ],
      "metadata": {
        "id": "HzU4xrXS1q8-"
      },
      "execution_count": 71,
      "outputs": []
    },
    {
      "cell_type": "markdown",
      "source": [
        "**60-40**"
      ],
      "metadata": {
        "id": "jH7m9q2S1XYD"
      }
    },
    {
      "cell_type": "code",
      "source": [
        "NBmodel4 = GaussianNB()\n",
        "\n",
        "# Prepare input and output for learning\n",
        "X = encoded_wine_contentDF.iloc[:,1:3]\n",
        "y = encoded_wine_contentDF.iloc[:,0]\n",
        "\n",
        "# In order to have the same proportion of 0 and 1 classes in a dataset to train, use 'stratify'\n",
        "X_train, X_test, y_train, y_test = \\\n",
        "    train_test_split(X, y, random_state=42, shuffle=True, test_size=0.40, stratify=y)\n",
        "\n",
        "# Display the sets\n",
        "print(X_train)\n",
        "print(X_test)"
      ],
      "metadata": {
        "colab": {
          "base_uri": "https://localhost:8080/"
        },
        "id": "PeH2UJFg1nFp",
        "outputId": "e2e88590-2c30-4ef9-e406-185c67bd7de4"
      },
      "execution_count": 72,
      "outputs": [
        {
          "output_type": "stream",
          "name": "stdout",
          "text": [
            "      Alcohol_flag  Sugar_flag\n",
            "3188             0           1\n",
            "1192             1           0\n",
            "1152             1           1\n",
            "1741             1           0\n",
            "1308             1           1\n",
            "...            ...         ...\n",
            "3203             0           1\n",
            "1129             1           1\n",
            "11               1           1\n",
            "2226             1           0\n",
            "2437             0           1\n",
            "\n",
            "[2007 rows x 2 columns]\n",
            "      Alcohol_flag  Sugar_flag\n",
            "1326             0           1\n",
            "520              1           1\n",
            "443              0           1\n",
            "1721             1           1\n",
            "2826             0           1\n",
            "...            ...         ...\n",
            "744              1           0\n",
            "3184             0           1\n",
            "1430             0           1\n",
            "2986             0           0\n",
            "1062             1           1\n",
            "\n",
            "[1338 rows x 2 columns]\n"
          ]
        }
      ]
    },
    {
      "cell_type": "code",
      "source": [
        "# Train the model\n",
        "NBmodel4.fit(X_train, y_train)\n",
        "\n",
        "# Calculate model accuracy on both training and test data\n",
        "labels = [\"Training\", \"Test\"]\n",
        "scores4 = [NBmodel4.score(X_train, y_train), NBmodel4.score(X_test, y_test)]"
      ],
      "metadata": {
        "id": "E5BH1tOs1rnE"
      },
      "execution_count": 73,
      "outputs": []
    },
    {
      "cell_type": "markdown",
      "source": [
        "**50-50**"
      ],
      "metadata": {
        "id": "b5ZxZC3N1ZkD"
      }
    },
    {
      "cell_type": "code",
      "source": [
        "NBmodel5 = GaussianNB()\n",
        "\n",
        "# Prepare input and output for learning\n",
        "X = encoded_wine_contentDF.iloc[:,1:3]\n",
        "y = encoded_wine_contentDF.iloc[:,0]\n",
        "\n",
        "# In order to have the same proportion of 0 and 1 classes in a dataset to train, use 'stratify'\n",
        "X_train, X_test, y_train, y_test = \\\n",
        "    train_test_split(X, y, random_state=42, shuffle=True, test_size=0.50, stratify=y)\n",
        "\n",
        "# Display the sets\n",
        "print(X_train)\n",
        "print(X_test)"
      ],
      "metadata": {
        "colab": {
          "base_uri": "https://localhost:8080/"
        },
        "id": "i51xw8Mq1MOr",
        "outputId": "3bd419c4-b4b5-4c17-cd3a-0413743e3559"
      },
      "execution_count": 74,
      "outputs": [
        {
          "output_type": "stream",
          "name": "stdout",
          "text": [
            "      Alcohol_flag  Sugar_flag\n",
            "1097             1           1\n",
            "3003             0           0\n",
            "1341             0           0\n",
            "1685             1           0\n",
            "708              0           0\n",
            "...            ...         ...\n",
            "1803             1           1\n",
            "3297             0           0\n",
            "1129             1           1\n",
            "580              0           1\n",
            "770              1           1\n",
            "\n",
            "[1672 rows x 2 columns]\n",
            "      Alcohol_flag  Sugar_flag\n",
            "348              0           1\n",
            "1435             0           0\n",
            "1475             0           0\n",
            "3212             0           0\n",
            "1269             1           1\n",
            "...            ...         ...\n",
            "2899             0           1\n",
            "2773             0           1\n",
            "2584             0           0\n",
            "1219             1           1\n",
            "621              0           0\n",
            "\n",
            "[1673 rows x 2 columns]\n"
          ]
        }
      ]
    },
    {
      "cell_type": "code",
      "source": [
        "# Train the model\n",
        "NBmodel5.fit(X_train, y_train)\n",
        "\n",
        "# Calculate model accuracy on both training and test data\n",
        "labels = [\"Training\", \"Test\"]\n",
        "scores5 = [NBmodel5.score(X_train, y_train), NBmodel5.score(X_test, y_test)]"
      ],
      "metadata": {
        "id": "S0ejt1tX1sul"
      },
      "execution_count": 75,
      "outputs": []
    },
    {
      "cell_type": "markdown",
      "source": [
        "**Plot the model accuracy measures obtained in Step 8**"
      ],
      "metadata": {
        "id": "6izJef4LjDwJ"
      }
    },
    {
      "cell_type": "markdown",
      "source": [
        "**80-20**"
      ],
      "metadata": {
        "id": "JoO3xLyB2I2x"
      }
    },
    {
      "cell_type": "code",
      "source": [
        "# Plot the accuracy values\n",
        "fig1 = plt.figure()\n",
        "ax1 = fig1.add_axes([0,0,1,1])\n",
        "ax1.set_title('Model Classification Accuary on Training vs. Test Data 80/20')\n",
        "ax1.bar(labels, scores1, color=\"orange\")\n",
        "ax1.set_ylim(0, 1)\n",
        "plt.show()"
      ],
      "metadata": {
        "colab": {
          "base_uri": "https://localhost:8080/",
          "height": 563
        },
        "id": "iEuYn2GWzKyB",
        "outputId": "a8e9ce6d-0aff-4249-c6d1-47ba2b40babd"
      },
      "execution_count": 76,
      "outputs": [
        {
          "output_type": "display_data",
          "data": {
            "text/plain": [
              "<Figure size 640x480 with 1 Axes>"
            ],
            "image/png": "[encoded data removed]"
          },
          "metadata": {}
        }
      ]
    },
    {
      "cell_type": "markdown",
      "source": [
        "**75-25**"
      ],
      "metadata": {
        "id": "i6g5BQXS3pN-"
      }
    },
    {
      "cell_type": "code",
      "source": [
        "# Plot the accuracy values\n",
        "fig2 = plt.figure()\n",
        "ax2 = fig2.add_axes([0,0,1,1])\n",
        "ax2.set_title('Model Classification Accuary on Training vs. Test Data 75/25')\n",
        "ax2.bar(labels, scores2, color=\"lightblue\")\n",
        "ax2.set_ylim(0, 1)\n",
        "plt.show()"
      ],
      "metadata": {
        "colab": {
          "base_uri": "https://localhost:8080/",
          "height": 563
        },
        "id": "6eU1FeOJ3D2u",
        "outputId": "fd587d4b-0edc-4d36-c957-3c7ab919a08d"
      },
      "execution_count": 89,
      "outputs": [
        {
          "output_type": "display_data",
          "data": {
            "text/plain": [
              "<Figure size 640x480 with 1 Axes>"
            ],
            "image/png": "[encoded data removed]"
          },
          "metadata": {}
        }
      ]
    },
    {
      "cell_type": "markdown",
      "source": [
        "**70-30**"
      ],
      "metadata": {
        "id": "ICjpKMKg3vFz"
      }
    },
    {
      "cell_type": "code",
      "source": [
        "# Plot the accuracy values\n",
        "fig3 = plt.figure()\n",
        "ax3 = fig3.add_axes([0,0,1,1])\n",
        "ax3.set_title('Model Classification Accuary on Training vs. Test Data 70/30')\n",
        "ax3.bar(labels, scores3, color=\"lightgreen\")\n",
        "ax3.set_ylim(0, 1)\n",
        "plt.show()"
      ],
      "metadata": {
        "colab": {
          "base_uri": "https://localhost:8080/",
          "height": 563
        },
        "id": "lLIMmhnv3LXd",
        "outputId": "9ebbcacb-bafd-4bac-d5cf-19f73171e20f"
      },
      "execution_count": 85,
      "outputs": [
        {
          "output_type": "display_data",
          "data": {
            "text/plain": [
              "<Figure size 640x480 with 1 Axes>"
            ],
            "image/png": "[encoded data removed]"
          },
          "metadata": {}
        }
      ]
    },
    {
      "cell_type": "markdown",
      "source": [
        "**60-40**"
      ],
      "metadata": {
        "id": "i8J071EC36M2"
      }
    },
    {
      "cell_type": "code",
      "source": [
        "# Plot the accuracy values\n",
        "fig4 = plt.figure()\n",
        "ax4 = fig4.add_axes([0,0,1,1])\n",
        "ax4.set_title('Model Classification Accuary on Training vs. Test Data 60/40')\n",
        "ax4.bar(labels, scores4, color=\"pink\")\n",
        "ax4.set_ylim(0, 1)\n",
        "plt.show()"
      ],
      "metadata": {
        "colab": {
          "base_uri": "https://localhost:8080/",
          "height": 563
        },
        "id": "CU2L7X_w3a-d",
        "outputId": "dcd2039b-f558-4c49-a500-59049a186487"
      },
      "execution_count": 87,
      "outputs": [
        {
          "output_type": "display_data",
          "data": {
            "text/plain": [
              "<Figure size 640x480 with 1 Axes>"
            ],
            "image/png": "[encoded data removed]"
          },
          "metadata": {}
        }
      ]
    },
    {
      "cell_type": "markdown",
      "source": [
        "**50-50**"
      ],
      "metadata": {
        "id": "pUbRY_nG3_2A"
      }
    },
    {
      "cell_type": "code",
      "source": [
        "# Plot the accuracy values\n",
        "fig5 = plt.figure()\n",
        "ax5 = fig5.add_axes([0,0,1,1])\n",
        "ax5.set_title('Model Classification Accuary on Training vs. Test Data 50/50')\n",
        "ax5.bar(labels, scores5, color=\"purple\")\n",
        "ax5.set_ylim(0, 1)\n",
        "plt.show()"
      ],
      "metadata": {
        "colab": {
          "base_uri": "https://localhost:8080/",
          "height": 563
        },
        "id": "vdLXx2cU4C2e",
        "outputId": "58302f6c-d983-4c44-dda7-5c5a47935be8"
      },
      "execution_count": 88,
      "outputs": [
        {
          "output_type": "display_data",
          "data": {
            "text/plain": [
              "<Figure size 640x480 with 1 Axes>"
            ],
            "image/png": "[encoded data removed]"
          },
          "metadata": {}
        }
      ]
    },
    {
      "cell_type": "markdown",
      "source": [
        "All Training Scores"
      ],
      "metadata": {
        "id": "GlxdHjPb6CGN"
      }
    },
    {
      "cell_type": "code",
      "metadata": {
        "colab": {
          "base_uri": "https://localhost:8080/"
        },
        "id": "dd5f97d3",
        "outputId": "d41a1967-9ffc-46d9-d0fd-3fe48312a8bb"
      },
      "source": [
        "print(\"80-20 split:\", scores1)\n",
        "print(\"75-25 split:\", scores2)\n",
        "print(\"70-30 split:\", scores3)\n",
        "print(\"60-40 split:\", scores4)\n",
        "print(\"50-50 split:\", scores5)"
      ],
      "execution_count": 93,
      "outputs": [
        {
          "output_type": "stream",
          "name": "stdout",
          "text": [
            "80-20 split: [0.734304932735426, 0.7204783258594918]\n",
            "75-25 split: [0.7344497607655502, 0.7228195937873357]\n",
            "70-30 split: [0.7338744126441692, 0.7260956175298805]\n",
            "60-40 split: [0.7364225211758844, 0.7242152466367713]\n",
            "50-50 split: [0.7350478468899522, 0.7280334728033473]\n"
          ]
        }
      ]
    },
    {
      "cell_type": "markdown",
      "source": [
        "**Summarize your findings.**"
      ],
      "metadata": {
        "id": "FXz9l1n9jIvh"
      }
    },
    {
      "cell_type": "markdown",
      "source": [
        "Almost 70% of the wines from this data are white wines. This is also noticeable in the plotting of the Sugar and Alcohol contingency tables. This may affect the data during the training, as the model might be better at identifying white wines over red wines.\n",
        "\n",
        "Low Alcohol and High Sugar whites and Low Alcohol and Low Sugar reds are the most common types in this dataset. The Sugar and Alcohol content is split almost 50-50 for low and high content wines in this dataset.\n",
        "\n",
        "The conditional probability for Red is the most important when studying the Sugar content. If a wine has a low sugar content, it has a 78% chance of being red.\n",
        "\n",
        "The models are training and testing well on the data. The numbers for testing and training are very similar, which tells us that the model is able to test on data it hasn't seen before with very similar accuracy to the training.\n",
        "\n",
        "The different splits for training and testing didn't show much variation, as the numbers stayed around 73 and 72. This shows that the model only changes slightly when splitting the data differently.\n",
        "\n",
        "From this data, training and testing changed very little and are fairly accurate with 72% accuracy. This is because the data set is small and has only alcohol and sugar variables to analyze. If there were a larger model with more variables, we would most likely see more discrepancies between the different splits of data."
      ],
      "metadata": {
        "id": "yRUoqBkf6wTh"
      }
    }
  ]
}