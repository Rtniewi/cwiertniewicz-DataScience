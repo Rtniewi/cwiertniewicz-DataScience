{
  "nbformat": 4,
  "nbformat_minor": 0,
  "metadata": {
    "colab": {
      "provenance": [],
      "authorship_tag": "ABX9TyOx9DViQkmqHVj8DUxV0ovi",
      "include_colab_link": true
    },
    "kernelspec": {
      "name": "ir",
      "display_name": "R"
    },
    "language_info": {
      "name": "R"
    }
  },
  "cells": [
    {
      "cell_type": "markdown",
      "metadata": {
        "id": "view-in-github",
        "colab_type": "text"
      },
      "source": [
        "<a href=\"https://colab.research.google.com/github/Rtniewi/cwiertniewicz-DataScience/blob/main/HW4/problem2_r.ipynb\" target=\"_parent\"><img src=\"https://colab.research.google.com/assets/colab-badge.svg\" alt=\"Open In Colab\"/></a>"
      ]
    },
    {
      "cell_type": "code",
      "execution_count": null,
      "metadata": {
        "id": "oOWo-Tka1Tc9"
      },
      "outputs": [],
      "source": [
        "# Katrina Cwiertniewicz\n",
        "# Introduction to Data Science IS1\n",
        "# 10/5/2025\n",
        "# Project 4: Problem 2 R\n",
        "###The purpose of this assignment is to create contingency tables and answer questions using R and Python to analyze the datasets provided."
      ]
    },
    {
      "cell_type": "code",
      "source": [
        "library(readr)\n",
        "nutritionDF  <- read_csv(\"https://raw.githubusercontent.com/bforoura/IDS/refs/heads/main/HW4/nutrition_subset.csv\");"
      ],
      "metadata": {
        "colab": {
          "base_uri": "https://localhost:8080/"
        },
        "id": "CUNjZtXM2DdH",
        "outputId": "8e3ebd22-c98f-48f1-c606-e67a29469c6a"
      },
      "execution_count": null,
      "outputs": [
        {
          "output_type": "stream",
          "name": "stderr",
          "text": [
            "\u001b[1mRows: \u001b[22m\u001b[34m961\u001b[39m \u001b[1mColumns: \u001b[22m\u001b[34m4\u001b[39m\n",
            "\u001b[36m──\u001b[39m \u001b[1mColumn specification\u001b[22m \u001b[36m────────────────────────────────────────────────────────\u001b[39m\n",
            "\u001b[1mDelimiter:\u001b[22m \",\"\n",
            "\u001b[31mchr\u001b[39m (1): food item\n",
            "\u001b[32mdbl\u001b[39m (3): weight_in_grams, saturated_fat, cholesterol\n",
            "\n",
            "\u001b[36mℹ\u001b[39m Use `spec()` to retrieve the full column specification for this data.\n",
            "\u001b[36mℹ\u001b[39m Specify the column types or set `show_col_types = FALSE` to quiet this message.\n"
          ]
        }
      ]
    },
    {
      "cell_type": "markdown",
      "source": [
        "**Sort the data set by saturated_fat and produce a listing of the five food items highest in saturated fat. Comment on the validity of comparing food items of different sizes.**"
      ],
      "metadata": {
        "id": "eLehT5ON2s5I"
      }
    },
    {
      "cell_type": "code",
      "source": [
        "head(nutritionDF[order(nutritionDF$saturated_fat, decreasing=TRUE), c(\"food item\", \"saturated_fat\")], 5)"
      ],
      "metadata": {
        "colab": {
          "base_uri": "https://localhost:8080/",
          "height": 255
        },
        "id": "O1QFOxEc2ruq",
        "outputId": "2623a886-1d4c-4eee-9682-287bfe253a13"
      },
      "execution_count": null,
      "outputs": [
        {
          "output_type": "display_data",
          "data": {
            "text/html": [
              "<table class=\"dataframe\">\n",
              "<caption>A tibble: 5 × 2</caption>\n",
              "<thead>\n",
              "\t<tr><th scope=col>food item</th><th scope=col>saturated_fat</th></tr>\n",
              "\t<tr><th scope=col>&lt;chr&gt;</th><th scope=col>&lt;dbl&gt;</th></tr>\n",
              "</thead>\n",
              "<tbody>\n",
              "\t<tr><td>CHEESECAKE                    1 CAKE </td><td>119.9</td></tr>\n",
              "\t<tr><td>ICE CREAM; VANLLA; RICH 16% FT1/2 GAL</td><td>118.3</td></tr>\n",
              "\t<tr><td>YELLOWCAKE W/ CHOCFRSTNG;COMML1 CAKE </td><td> 92.0</td></tr>\n",
              "\t<tr><td>CREME PIE                     1 PIE  </td><td> 90.1</td></tr>\n",
              "\t<tr><td>LARD                          1 CUP  </td><td> 80.4</td></tr>\n",
              "</tbody>\n",
              "</table>\n"
            ],
            "text/markdown": "\nA tibble: 5 × 2\n\n| food item &lt;chr&gt; | saturated_fat &lt;dbl&gt; |\n|---|---|\n| CHEESECAKE                    1 CAKE  | 119.9 |\n| ICE CREAM; VANLLA; RICH 16% FT1/2 GAL | 118.3 |\n| YELLOWCAKE W/ CHOCFRSTNG;COMML1 CAKE  |  92.0 |\n| CREME PIE                     1 PIE   |  90.1 |\n| LARD                          1 CUP   |  80.4 |\n\n",
            "text/latex": "A tibble: 5 × 2\n\\begin{tabular}{ll}\n food item & saturated\\_fat\\\\\n <chr> & <dbl>\\\\\n\\hline\n\t CHEESECAKE                    1 CAKE  & 119.9\\\\\n\t ICE CREAM; VANLLA; RICH 16\\% FT1/2 GAL & 118.3\\\\\n\t YELLOWCAKE W/ CHOCFRSTNG;COMML1 CAKE  &  92.0\\\\\n\t CREME PIE                     1 PIE   &  90.1\\\\\n\t LARD                          1 CUP   &  80.4\\\\\n\\end{tabular}\n",
            "text/plain": [
              "  food item                             saturated_fat\n",
              "1 CHEESECAKE                    1 CAKE  119.9        \n",
              "2 ICE CREAM; VANLLA; RICH 16% FT1/2 GAL 118.3        \n",
              "3 YELLOWCAKE W/ CHOCFRSTNG;COMML1 CAKE   92.0        \n",
              "4 CREME PIE                     1 PIE    90.1        \n",
              "5 LARD                          1 CUP    80.4        "
            ]
          },
          "metadata": {}
        }
      ]
    },
    {
      "cell_type": "markdown",
      "source": [
        "Comparing food items of different sizes won't correctly display if a food item is high or low in saturated fat as serving size and saturated fat per gram is not taken into consideration."
      ],
      "metadata": {
        "id": "_7GBG85j5zvk"
      }
    },
    {
      "cell_type": "markdown",
      "source": [
        "**Create a new variable, saturated_fat_per_gram by dividing the amount of saturated fat by the weight in grams. Sort the data set by saturated_fat_per_gram and produce a listing of the five food items highest in saturated fat per fram. Which food has the most saturated fat per gram?**"
      ],
      "metadata": {
        "id": "KWfEg1fx64Gw"
      }
    },
    {
      "cell_type": "markdown",
      "source": [
        "Salted Butter has the most saturated fat per gram."
      ],
      "metadata": {
        "id": "vtWNJ0gFMc6W"
      }
    },
    {
      "cell_type": "code",
      "source": [
        "n <- dim(nutritionDF)[1]\n",
        "saturated_fat_per_gram = nutritionDF$saturated_fat/nutritionDF$weight_in_grams\n",
        "\n",
        "nutritionDF$saturated_fat_per_gram <- saturated_fat_per_gram\n",
        "\n",
        "head(nutritionDF[order(nutritionDF$saturated_fat_per_gram, decreasing=TRUE), c(\"food item\", \"saturated_fat_per_gram\")], 5)"
      ],
      "metadata": {
        "colab": {
          "base_uri": "https://localhost:8080/",
          "height": 255
        },
        "id": "jGJVY80J7sAj",
        "outputId": "e0071eac-e30f-4f36-f3ef-470eb5b5eed2"
      },
      "execution_count": null,
      "outputs": [
        {
          "output_type": "display_data",
          "data": {
            "text/html": [
              "<table class=\"dataframe\">\n",
              "<caption>A tibble: 5 × 2</caption>\n",
              "<thead>\n",
              "\t<tr><th scope=col>food item</th><th scope=col>saturated_fat_per_gram</th></tr>\n",
              "\t<tr><th scope=col>&lt;chr&gt;</th><th scope=col>&lt;dbl&gt;</th></tr>\n",
              "</thead>\n",
              "<tbody>\n",
              "\t<tr><td>BUTTER; SALTED                1 TBSP </td><td>0.5071429</td></tr>\n",
              "\t<tr><td>BUTTER; UNSALTED              1 TBSP </td><td>0.5071429</td></tr>\n",
              "\t<tr><td>BUTTER; SALTED                1/2 CUP</td><td>0.5053097</td></tr>\n",
              "\t<tr><td>BUTTER; UNSALTED              1/2 CUP</td><td>0.5053097</td></tr>\n",
              "\t<tr><td>BUTTER; SALTED                1 PAT  </td><td>0.5000000</td></tr>\n",
              "</tbody>\n",
              "</table>\n"
            ],
            "text/markdown": "\nA tibble: 5 × 2\n\n| food item &lt;chr&gt; | saturated_fat_per_gram &lt;dbl&gt; |\n|---|---|\n| BUTTER; SALTED                1 TBSP  | 0.5071429 |\n| BUTTER; UNSALTED              1 TBSP  | 0.5071429 |\n| BUTTER; SALTED                1/2 CUP | 0.5053097 |\n| BUTTER; UNSALTED              1/2 CUP | 0.5053097 |\n| BUTTER; SALTED                1 PAT   | 0.5000000 |\n\n",
            "text/latex": "A tibble: 5 × 2\n\\begin{tabular}{ll}\n food item & saturated\\_fat\\_per\\_gram\\\\\n <chr> & <dbl>\\\\\n\\hline\n\t BUTTER; SALTED                1 TBSP  & 0.5071429\\\\\n\t BUTTER; UNSALTED              1 TBSP  & 0.5071429\\\\\n\t BUTTER; SALTED                1/2 CUP & 0.5053097\\\\\n\t BUTTER; UNSALTED              1/2 CUP & 0.5053097\\\\\n\t BUTTER; SALTED                1 PAT   & 0.5000000\\\\\n\\end{tabular}\n",
            "text/plain": [
              "  food item                             saturated_fat_per_gram\n",
              "1 BUTTER; SALTED                1 TBSP  0.5071429             \n",
              "2 BUTTER; UNSALTED              1 TBSP  0.5071429             \n",
              "3 BUTTER; SALTED                1/2 CUP 0.5053097             \n",
              "4 BUTTER; UNSALTED              1/2 CUP 0.5053097             \n",
              "5 BUTTER; SALTED                1 PAT   0.5000000             "
            ]
          },
          "metadata": {}
        }
      ]
    },
    {
      "cell_type": "markdown",
      "source": [
        "**Standardize(zero mean) the field saturated_fat_per gram, and produce a listing of all the food items that are outliers at the high end of the scale. How many food items are outliers at the low end of the scale? Create a density plot for saturated_fat_per_gram**"
      ],
      "metadata": {
        "id": "snYyy4bc96Xm"
      }
    },
    {
      "cell_type": "code",
      "source": [
        "nutritionDF$scaled_saturated_fat_per_gram <- scale(x = nutritionDF$saturated_fat_per_gram)\n",
        "\n",
        "summary(nutritionDF$scaled_saturated_fat_per_gram)"
      ],
      "metadata": {
        "colab": {
          "base_uri": "https://localhost:8080/",
          "height": 138
        },
        "id": "FWnDVpR0-4pM",
        "outputId": "d77b97d2-6f12-40ef-fd7c-d2793009b4ff"
      },
      "execution_count": null,
      "outputs": [
        {
          "output_type": "display_data",
          "data": {
            "text/plain": [
              "       V1         \n",
              " Min.   :-0.5620  \n",
              " 1st Qu.:-0.5620  \n",
              " Median :-0.4411  \n",
              " Mean   : 0.0000  \n",
              " 3rd Qu.: 0.1539  \n",
              " Max.   : 7.1068  "
            ]
          },
          "metadata": {}
        }
      ]
    },
    {
      "cell_type": "code",
      "source": [
        "hist(nutritionDF$scaled_saturated_fat_per_gram, col=\"blue\")"
      ],
      "metadata": {
        "colab": {
          "base_uri": "https://localhost:8080/",
          "height": 437
        },
        "id": "X4kkTD0eDCNI",
        "outputId": "7a2e1f0a-fa14-40fa-c72a-6282215449c0"
      },
      "execution_count": null,
      "outputs": [
        {
          "output_type": "display_data",
          "data": {
            "text/plain": [
              "Plot with title “Histogram of nutritionDF$scaled_saturated_fat_per_gram”"
            ],
            "image/png": "[encoded data removed]"
          },
          "metadata": {
            "image/png": {
              "width": 420,
              "height": 420
            }
          }
        }
      ]
    },
    {
      "cell_type": "code",
      "source": [
        "# Determine the three sigma rule first for the scaled_saturated_fat_per_gram attribute\n",
        "\n",
        "max_three_sigma_rule <- (nutritionDF$scaled_saturated_fat_per_gram > 3 )\n",
        "\n",
        "# Number of Outliers\n",
        "cat (\"There are\", sum(max_three_sigma_rule), \"outliers \\n\\n\")\n",
        "\n",
        "# Max Outliers\n",
        "max_outlier_nutritionDF <- nutritionDF[max_three_sigma_rule ,]\n",
        "\n",
        "# Display Outliers\n",
        "max_outlier_nutritionDF[order(max_outlier_nutritionDF$scaled_saturated_fat_per_gram, decreasing=TRUE), c(\"food item\", \"saturated_fat_per_gram\", \"scaled_saturated_fat_per_gram\")]"
      ],
      "metadata": {
        "colab": {
          "base_uri": "https://localhost:8080/",
          "height": 603
        },
        "id": "QBQlBQ8kDpUm",
        "outputId": "62fb5b72-e936-4f30-b8e5-2a637a9a42ab"
      },
      "execution_count": null,
      "outputs": [
        {
          "output_type": "stream",
          "name": "stdout",
          "text": [
            "There are 15 outliers \n",
            "\n"
          ]
        },
        {
          "output_type": "display_data",
          "data": {
            "text/html": [
              "<table class=\"dataframe\">\n",
              "<caption>A tibble: 15 × 3</caption>\n",
              "<thead>\n",
              "\t<tr><th scope=col>food item</th><th scope=col>saturated_fat_per_gram</th><th scope=col>scaled_saturated_fat_per_gram</th></tr>\n",
              "\t<tr><th scope=col>&lt;chr&gt;</th><th scope=col>&lt;dbl&gt;</th><th scope=col>&lt;dbl[,1]&gt;</th></tr>\n",
              "</thead>\n",
              "<tbody>\n",
              "\t<tr><td>BUTTER; SALTED                1 TBSP </td><td>0.5071429</td><td>7.106775</td></tr>\n",
              "\t<tr><td>BUTTER; UNSALTED              1 TBSP </td><td>0.5071429</td><td>7.106775</td></tr>\n",
              "\t<tr><td>BUTTER; SALTED                1/2 CUP</td><td>0.5053097</td><td>7.079055</td></tr>\n",
              "\t<tr><td>BUTTER; UNSALTED              1/2 CUP</td><td>0.5053097</td><td>7.079055</td></tr>\n",
              "\t<tr><td>BUTTER; SALTED                1 PAT  </td><td>0.5000000</td><td>6.998763</td></tr>\n",
              "\t<tr><td>BUTTER; UNSALTED              1 PAT  </td><td>0.5000000</td><td>6.998763</td></tr>\n",
              "\t<tr><td>LARD                          1 TBSP </td><td>0.3923077</td><td>5.370282</td></tr>\n",
              "\t<tr><td>LARD                          1 CUP  </td><td>0.3921951</td><td>5.368580</td></tr>\n",
              "\t<tr><td>IMITATION CREAMERS; POWDERED  1 TSP  </td><td>0.3500000</td><td>4.730522</td></tr>\n",
              "\t<tr><td>CHOCOLATE; BITTER OT BAKING   1 OZ   </td><td>0.3174603</td><td>4.238469</td></tr>\n",
              "\t<tr><td>COCONUT; DRIED; SWEETND;SHREDD1 CUP  </td><td>0.3150538</td><td>4.202078</td></tr>\n",
              "\t<tr><td>COCONUT; RAW; PIECE           1 PIECE</td><td>0.2977778</td><td>3.940837</td></tr>\n",
              "\t<tr><td>COCONUT; RAW; SHREDDED        1 CUP  </td><td>0.2975000</td><td>3.936637</td></tr>\n",
              "\t<tr><td>FATS; COOKING/VEGETBL SHORTENG1 TBSP </td><td>0.2538462</td><td>3.276520</td></tr>\n",
              "\t<tr><td>FATS; COOKING/VEGETBL SHORTENG1 CUP  </td><td>0.2502439</td><td>3.222049</td></tr>\n",
              "</tbody>\n",
              "</table>\n"
            ],
            "text/markdown": "\nA tibble: 15 × 3\n\n| food item &lt;chr&gt; | saturated_fat_per_gram &lt;dbl&gt; | scaled_saturated_fat_per_gram &lt;dbl[,1]&gt; |\n|---|---|---|\n| BUTTER; SALTED                1 TBSP  | 0.5071429 | 7.106775 |\n| BUTTER; UNSALTED              1 TBSP  | 0.5071429 | 7.106775 |\n| BUTTER; SALTED                1/2 CUP | 0.5053097 | 7.079055 |\n| BUTTER; UNSALTED              1/2 CUP | 0.5053097 | 7.079055 |\n| BUTTER; SALTED                1 PAT   | 0.5000000 | 6.998763 |\n| BUTTER; UNSALTED              1 PAT   | 0.5000000 | 6.998763 |\n| LARD                          1 TBSP  | 0.3923077 | 5.370282 |\n| LARD                          1 CUP   | 0.3921951 | 5.368580 |\n| IMITATION CREAMERS; POWDERED  1 TSP   | 0.3500000 | 4.730522 |\n| CHOCOLATE; BITTER OT BAKING   1 OZ    | 0.3174603 | 4.238469 |\n| COCONUT; DRIED; SWEETND;SHREDD1 CUP   | 0.3150538 | 4.202078 |\n| COCONUT; RAW; PIECE           1 PIECE | 0.2977778 | 3.940837 |\n| COCONUT; RAW; SHREDDED        1 CUP   | 0.2975000 | 3.936637 |\n| FATS; COOKING/VEGETBL SHORTENG1 TBSP  | 0.2538462 | 3.276520 |\n| FATS; COOKING/VEGETBL SHORTENG1 CUP   | 0.2502439 | 3.222049 |\n\n",
            "text/latex": "A tibble: 15 × 3\n\\begin{tabular}{lll}\n food item & saturated\\_fat\\_per\\_gram & scaled\\_saturated\\_fat\\_per\\_gram\\\\\n <chr> & <dbl> & <dbl{[},1{]}>\\\\\n\\hline\n\t BUTTER; SALTED                1 TBSP  & 0.5071429 & 7.106775\\\\\n\t BUTTER; UNSALTED              1 TBSP  & 0.5071429 & 7.106775\\\\\n\t BUTTER; SALTED                1/2 CUP & 0.5053097 & 7.079055\\\\\n\t BUTTER; UNSALTED              1/2 CUP & 0.5053097 & 7.079055\\\\\n\t BUTTER; SALTED                1 PAT   & 0.5000000 & 6.998763\\\\\n\t BUTTER; UNSALTED              1 PAT   & 0.5000000 & 6.998763\\\\\n\t LARD                          1 TBSP  & 0.3923077 & 5.370282\\\\\n\t LARD                          1 CUP   & 0.3921951 & 5.368580\\\\\n\t IMITATION CREAMERS; POWDERED  1 TSP   & 0.3500000 & 4.730522\\\\\n\t CHOCOLATE; BITTER OT BAKING   1 OZ    & 0.3174603 & 4.238469\\\\\n\t COCONUT; DRIED; SWEETND;SHREDD1 CUP   & 0.3150538 & 4.202078\\\\\n\t COCONUT; RAW; PIECE           1 PIECE & 0.2977778 & 3.940837\\\\\n\t COCONUT; RAW; SHREDDED        1 CUP   & 0.2975000 & 3.936637\\\\\n\t FATS; COOKING/VEGETBL SHORTENG1 TBSP  & 0.2538462 & 3.276520\\\\\n\t FATS; COOKING/VEGETBL SHORTENG1 CUP   & 0.2502439 & 3.222049\\\\\n\\end{tabular}\n",
            "text/plain": [
              "   food item                             saturated_fat_per_gram\n",
              "1  BUTTER; SALTED                1 TBSP  0.5071429             \n",
              "2  BUTTER; UNSALTED              1 TBSP  0.5071429             \n",
              "3  BUTTER; SALTED                1/2 CUP 0.5053097             \n",
              "4  BUTTER; UNSALTED              1/2 CUP 0.5053097             \n",
              "5  BUTTER; SALTED                1 PAT   0.5000000             \n",
              "6  BUTTER; UNSALTED              1 PAT   0.5000000             \n",
              "7  LARD                          1 TBSP  0.3923077             \n",
              "8  LARD                          1 CUP   0.3921951             \n",
              "9  IMITATION CREAMERS; POWDERED  1 TSP   0.3500000             \n",
              "10 CHOCOLATE; BITTER OT BAKING   1 OZ    0.3174603             \n",
              "11 COCONUT; DRIED; SWEETND;SHREDD1 CUP   0.3150538             \n",
              "12 COCONUT; RAW; PIECE           1 PIECE 0.2977778             \n",
              "13 COCONUT; RAW; SHREDDED        1 CUP   0.2975000             \n",
              "14 FATS; COOKING/VEGETBL SHORTENG1 TBSP  0.2538462             \n",
              "15 FATS; COOKING/VEGETBL SHORTENG1 CUP   0.2502439             \n",
              "   scaled_saturated_fat_per_gram\n",
              "1  7.106775                     \n",
              "2  7.106775                     \n",
              "3  7.079055                     \n",
              "4  7.079055                     \n",
              "5  6.998763                     \n",
              "6  6.998763                     \n",
              "7  5.370282                     \n",
              "8  5.368580                     \n",
              "9  4.730522                     \n",
              "10 4.238469                     \n",
              "11 4.202078                     \n",
              "12 3.940837                     \n",
              "13 3.936637                     \n",
              "14 3.276520                     \n",
              "15 3.222049                     "
            ]
          },
          "metadata": {}
        }
      ]
    },
    {
      "cell_type": "code",
      "source": [
        "# Determine the three sigma rule first for the scaled_saturated_fat_per_gram attribute\n",
        "\n",
        "low_three_sigma_rule <- (nutritionDF$scaled_saturated_fat_per_gram < -3)\n",
        "\n",
        "# Number of Outliers\n",
        "cat (\"There are\", sum(low_three_sigma_rule), \"outliers \\n\\n\")\n",
        "\n",
        "# Max Outliers\n",
        "low_outlier_nutritionDF <- nutritionDF[low_three_sigma_rule ,]\n",
        "\n",
        "# Display Outliers\n",
        "low_outlier_nutritionDF[order(low_outlier_nutritionDF$scaled_saturated_fat_per_gram, decreasing=FALSE), c(\"food item\", \"saturated_fat_per_gram\", \"scaled_saturated_fat_per_gram\")]"
      ],
      "metadata": {
        "colab": {
          "base_uri": "https://localhost:8080/",
          "height": 133
        },
        "id": "VKVgrecRM53n",
        "outputId": "fb0979fb-0551-4d9a-a04b-9f8f8286a50e"
      },
      "execution_count": null,
      "outputs": [
        {
          "output_type": "stream",
          "name": "stdout",
          "text": [
            "There are 0 outliers \n",
            "\n"
          ]
        },
        {
          "output_type": "display_data",
          "data": {
            "text/html": [
              "<table class=\"dataframe\">\n",
              "<caption>A tibble: 0 × 3</caption>\n",
              "<thead>\n",
              "\t<tr><th scope=col>food item</th><th scope=col>saturated_fat_per_gram</th><th scope=col>scaled_saturated_fat_per_gram</th></tr>\n",
              "\t<tr><th scope=col>&lt;chr&gt;</th><th scope=col>&lt;dbl&gt;</th><th scope=col>&lt;dbl[,1]&gt;</th></tr>\n",
              "</thead>\n",
              "<tbody>\n",
              "</tbody>\n",
              "</table>\n"
            ],
            "text/markdown": "\nA tibble: 0 × 3\n\n| food item &lt;chr&gt; | saturated_fat_per_gram &lt;dbl&gt; | scaled_saturated_fat_per_gram &lt;dbl[,1]&gt; |\n|---|---|---|\n\n",
            "text/latex": "A tibble: 0 × 3\n\\begin{tabular}{lll}\n food item & saturated\\_fat\\_per\\_gram & scaled\\_saturated\\_fat\\_per\\_gram\\\\\n <chr> & <dbl> & <dbl{[},1{]}>\\\\\n\\hline\n\\end{tabular}\n",
            "text/plain": [
              "     food item saturated_fat_per_gram scaled_saturated_fat_per_gram"
            ]
          },
          "metadata": {}
        }
      ]
    },
    {
      "cell_type": "markdown",
      "source": [
        "These values were the lowest of the z-mean scores however, there were no outliers on the other side with z-scores lower than -3."
      ],
      "metadata": {
        "id": "FjprYVkHNxYr"
      }
    },
    {
      "cell_type": "markdown",
      "source": [
        "**Density Plot for Saturated Fat Per Gram**"
      ],
      "metadata": {
        "id": "D81HxVvGPkwf"
      }
    },
    {
      "cell_type": "code",
      "source": [
        "par(mfrow=c(1, 2))\n",
        "\n",
        "\n",
        "# Kernel Density Plot\n",
        "d1 <- density(nutritionDF$saturated_fat_per_gram)\n",
        "\n",
        "# plots the results\n",
        "plot(d1, main=\"Unscaled Saturated Gram\")\n",
        "\n",
        "# plots the results (filled)\n",
        "polygon(d1, col=\"orange\", border=\"blue\")\n",
        "\n",
        "\n",
        "# Kernel Density Plot\n",
        "d2 <- density(nutritionDF$scaled_saturated_fat_per_gram)\n",
        "\n",
        "# plots the results\n",
        "plot(d2, main=\"Scaled Saturated Gram\")\n",
        "\n",
        "# plots the results (filled)\n",
        "polygon(d2, col=\"orange\", border=\"blue\")\n",
        "\n"
      ],
      "metadata": {
        "colab": {
          "base_uri": "https://localhost:8080/",
          "height": 437
        },
        "id": "JVTKsX3sE3DA",
        "outputId": "64fa8ec9-3daf-497a-e6f7-cfe3f2b7a58d"
      },
      "execution_count": null,
      "outputs": [
        {
          "output_type": "display_data",
          "data": {
            "text/plain": [
              "Plot with title “Scaled Saturated Gram”"
            ],
            "image/png": "[encoded data removed]"
          },
          "metadata": {
            "image/png": {
              "width": 420,
              "height": 420
            }
          }
        }
      ]
    },
    {
      "cell_type": "markdown",
      "source": [
        "Are there any missing values? If so, impute as necessary and explain your approach."
      ],
      "metadata": {
        "id": "9Lm0YgzuFl4i"
      }
    },
    {
      "cell_type": "code",
      "source": [
        "sum(is.na(nutritionDF$`food item`))\n",
        "sum(is.na(nutritionDF$weight_in_grams))\n",
        "sum(is.na(nutritionDF$saturated_fat))\n",
        "sum(is.na(nutritionDF$cholesterol))"
      ],
      "metadata": {
        "colab": {
          "base_uri": "https://localhost:8080/",
          "height": 86
        },
        "id": "rboA34DKGWhH",
        "outputId": "669bfe72-6463-4fe4-b554-f1caa7bf1332"
      },
      "execution_count": null,
      "outputs": [
        {
          "output_type": "display_data",
          "data": {
            "text/html": [
              "0"
            ],
            "text/markdown": "0",
            "text/latex": "0",
            "text/plain": [
              "[1] 0"
            ]
          },
          "metadata": {}
        },
        {
          "output_type": "display_data",
          "data": {
            "text/html": [
              "0"
            ],
            "text/markdown": "0",
            "text/latex": "0",
            "text/plain": [
              "[1] 0"
            ]
          },
          "metadata": {}
        },
        {
          "output_type": "display_data",
          "data": {
            "text/html": [
              "0"
            ],
            "text/markdown": "0",
            "text/latex": "0",
            "text/plain": [
              "[1] 0"
            ]
          },
          "metadata": {}
        },
        {
          "output_type": "display_data",
          "data": {
            "text/html": [
              "0"
            ],
            "text/markdown": "0",
            "text/latex": "0",
            "text/plain": [
              "[1] 0"
            ]
          },
          "metadata": {}
        }
      ]
    },
    {
      "cell_type": "markdown",
      "source": [
        "Missing values were checked and there were no missing values."
      ],
      "metadata": {
        "id": "2xXm_-KNGuB6"
      }
    },
    {
      "cell_type": "markdown",
      "source": [
        "**Standardize (zero mean) the numeric variables, and determine if there are any outliers.**"
      ],
      "metadata": {
        "id": "61In4PHhHrG4"
      }
    },
    {
      "cell_type": "markdown",
      "source": [
        "**Outliers for Weight in Grams**"
      ],
      "metadata": {
        "id": "LeII1ybNJj-J"
      }
    },
    {
      "cell_type": "code",
      "source": [
        "# Standardized Weight in Grams\n",
        "nutritionDF$scaled_weight_in_grams <- scale(x = nutritionDF$weight_in_grams)\n",
        "\n",
        "summary(nutritionDF$scaled_weight_in_grams)\n",
        "\n",
        "# Determine the three sigma rule first for the Weight in Grams attribute\n",
        "\n",
        "three_sigma_rule <- (nutritionDF$scaled_weight_in_grams < -3 |\n",
        "                     nutritionDF$scaled_weight_in_grams > 3 )\n",
        "\n",
        "cat (\"\\n\")\n",
        "# Number of Outliers\n",
        "cat (\"There are\", sum(three_sigma_rule), \"outliers \\n\\n\")\n",
        "\n",
        "\n",
        "cat(\"The scaled age values that are outliers: \\n\\n\")\n",
        "nutritionDF$scaled_weight_in_grams[which(three_sigma_rule)]"
      ],
      "metadata": {
        "colab": {
          "base_uri": "https://localhost:8080/",
          "height": 295
        },
        "id": "suaRLQhwJIMs",
        "outputId": "de10ed70-e187-493c-9e8f-ee7fe2d60ded"
      },
      "execution_count": null,
      "outputs": [
        {
          "output_type": "display_data",
          "data": {
            "text/plain": [
              "       V1         \n",
              " Min.   :-0.8471  \n",
              " 1st Qu.:-0.6674  \n",
              " Median :-0.2070  \n",
              " Mean   : 0.0000  \n",
              " 3rd Qu.: 0.3899  \n",
              " Max.   : 7.9165  "
            ]
          },
          "metadata": {}
        },
        {
          "output_type": "stream",
          "name": "stdout",
          "text": [
            "\n",
            "There are 22 outliers \n",
            "\n",
            "The scaled age values that are outliers: \n",
            "\n"
          ]
        },
        {
          "output_type": "display_data",
          "data": {
            "text/html": [
              "<style>\n",
              ".list-inline {list-style: none; margin:0; padding: 0}\n",
              ".list-inline>li {display: inline-block}\n",
              ".list-inline>li:not(:last-child)::after {content: \"\\00b7\"; padding: 0 .5ex}\n",
              "</style>\n",
              "<ol class=list-inline><li>4.32376451930241</li><li>6.88758493609249</li><li>5.46071370634901</li><li>3.8405611148076</li><li>3.56769330991642</li><li>5.44365946854331</li><li>7.88241547475827</li><li>5.44934421447854</li><li>4.32376451930241</li><li>5.10825945836456</li><li>5.631256084406</li><li>3.9258323038361</li><li>5.44934421447854</li><li>5.19921539332829</li><li>5.38112726325575</li><li>5.90412388929718</li><li>4.52273062703556</li><li>4.52273062703556</li><li>4.52273062703556</li><li>4.52273062703556</li><li>4.32376451930241</li><li>7.91652395036966</li></ol>\n"
            ],
            "text/markdown": "1. 4.32376451930241\n2. 6.88758493609249\n3. 5.46071370634901\n4. 3.8405611148076\n5. 3.56769330991642\n6. 5.44365946854331\n7. 7.88241547475827\n8. 5.44934421447854\n9. 4.32376451930241\n10. 5.10825945836456\n11. 5.631256084406\n12. 3.9258323038361\n13. 5.44934421447854\n14. 5.19921539332829\n15. 5.38112726325575\n16. 5.90412388929718\n17. 4.52273062703556\n18. 4.52273062703556\n19. 4.52273062703556\n20. 4.52273062703556\n21. 4.32376451930241\n22. 7.91652395036966\n\n\n",
            "text/latex": "\\begin{enumerate*}\n\\item 4.32376451930241\n\\item 6.88758493609249\n\\item 5.46071370634901\n\\item 3.8405611148076\n\\item 3.56769330991642\n\\item 5.44365946854331\n\\item 7.88241547475827\n\\item 5.44934421447854\n\\item 4.32376451930241\n\\item 5.10825945836456\n\\item 5.631256084406\n\\item 3.9258323038361\n\\item 5.44934421447854\n\\item 5.19921539332829\n\\item 5.38112726325575\n\\item 5.90412388929718\n\\item 4.52273062703556\n\\item 4.52273062703556\n\\item 4.52273062703556\n\\item 4.52273062703556\n\\item 4.32376451930241\n\\item 7.91652395036966\n\\end{enumerate*}\n",
            "text/plain": [
              " [1] 4.323765 6.887585 5.460714 3.840561 3.567693 5.443659 7.882415 5.449344\n",
              " [9] 4.323765 5.108259 5.631256 3.925832 5.449344 5.199215 5.381127 5.904124\n",
              "[17] 4.522731 4.522731 4.522731 4.522731 4.323765 7.916524"
            ]
          },
          "metadata": {}
        }
      ]
    },
    {
      "cell_type": "markdown",
      "source": [
        "**Outliers for Saturated Fat**"
      ],
      "metadata": {
        "id": "I6MN8flgJ3MB"
      }
    },
    {
      "cell_type": "code",
      "source": [
        "# Standardized Saturated Fat\n",
        "nutritionDF$scaled_saturated_fat<- scale(x = nutritionDF$saturated_fat)\n",
        "\n",
        "summary(nutritionDF$scaled_saturated_fat)\n",
        "\n",
        "# Determine the three sigma rule first for the Saturated Fat attribute\n",
        "\n",
        "three_sigma_rule <- (nutritionDF$scaled_saturated_fat < -3 |\n",
        "                     nutritionDF$scaled_saturated_fat > 3 )\n",
        "\n",
        "cat (\"\\n\")\n",
        "# Number of Outliers\n",
        "cat (\"There are\", sum(three_sigma_rule), \"outliers \\n\\n\")\n",
        "\n",
        "\n",
        "cat(\"The scaled age values that are outliers: \\n\\n\")\n",
        "nutritionDF$scaled_saturated_fat[which(three_sigma_rule)]"
      ],
      "metadata": {
        "colab": {
          "base_uri": "https://localhost:8080/",
          "height": 295
        },
        "id": "McW5lJ5nJuLp",
        "outputId": "24a2c3cb-bb7d-46f3-d4cf-05a0df57595a"
      },
      "execution_count": null,
      "outputs": [
        {
          "output_type": "display_data",
          "data": {
            "text/plain": [
              "       V1         \n",
              " Min.   :-0.3711  \n",
              " 1st Qu.:-0.3711  \n",
              " Median :-0.3339  \n",
              " Mean   : 0.0000  \n",
              " 3rd Qu.:-0.0640  \n",
              " Max.   :10.7882  "
            ]
          },
          "metadata": {}
        },
        {
          "output_type": "stream",
          "name": "stdout",
          "text": [
            "\n",
            "There are 20 outliers \n",
            "\n",
            "The scaled age values that are outliers: \n",
            "\n"
          ]
        },
        {
          "output_type": "display_data",
          "data": {
            "text/html": [
              "<style>\n",
              ".list-inline {list-style: none; margin:0; padding: 0}\n",
              ".list-inline>li {display: inline-block}\n",
              ".list-inline>li:not(:last-child)::after {content: \"\\00b7\"; padding: 0 .5ex}\n",
              "</style>\n",
              "<ol class=list-inline><li>4.05909579854792</li><li>10.7882081856457</li><li>4.46861301159398</li><li>4.80367254954076</li><li>5.77162232583145</li><li>4.07771021732274</li><li>3.18421811613134</li><li>8.19149676655819</li><li>6.26490442336421</li><li>3.50066323530329</li><li>10.6392928354471</li><li>8.01465978819739</li><li>4.72921487444148</li><li>3.92879486712418</li><li>4.94328069035192</li><li>4.94328069035192</li><li>7.11186047761857</li><li>3.02599555654536</li><li>3.27729021000544</li><li>4.40346254588211</li></ol>\n"
            ],
            "text/markdown": "1. 4.05909579854792\n2. 10.7882081856457\n3. 4.46861301159398\n4. 4.80367254954076\n5. 5.77162232583145\n6. 4.07771021732274\n7. 3.18421811613134\n8. 8.19149676655819\n9. 6.26490442336421\n10. 3.50066323530329\n11. 10.6392928354471\n12. 8.01465978819739\n13. 4.72921487444148\n14. 3.92879486712418\n15. 4.94328069035192\n16. 4.94328069035192\n17. 7.11186047761857\n18. 3.02599555654536\n19. 3.27729021000544\n20. 4.40346254588211\n\n\n",
            "text/latex": "\\begin{enumerate*}\n\\item 4.05909579854792\n\\item 10.7882081856457\n\\item 4.46861301159398\n\\item 4.80367254954076\n\\item 5.77162232583145\n\\item 4.07771021732274\n\\item 3.18421811613134\n\\item 8.19149676655819\n\\item 6.26490442336421\n\\item 3.50066323530329\n\\item 10.6392928354471\n\\item 8.01465978819739\n\\item 4.72921487444148\n\\item 3.92879486712418\n\\item 4.94328069035192\n\\item 4.94328069035192\n\\item 7.11186047761857\n\\item 3.02599555654536\n\\item 3.27729021000544\n\\item 4.40346254588211\n\\end{enumerate*}\n",
            "text/plain": [
              " [1]  4.059096 10.788208  4.468613  4.803673  5.771622  4.077710  3.184218\n",
              " [8]  8.191497  6.264904  3.500663 10.639293  8.014660  4.729215  3.928795\n",
              "[15]  4.943281  4.943281  7.111860  3.025996  3.277290  4.403463"
            ]
          },
          "metadata": {}
        }
      ]
    },
    {
      "cell_type": "markdown",
      "source": [
        "**Outliers for Cholesterol**"
      ],
      "metadata": {
        "id": "rEgFqgzcKpwc"
      }
    },
    {
      "cell_type": "code",
      "source": [
        "# Standardized Cholesterol\n",
        "nutritionDF$scaled_cholesterol <- scale(x = nutritionDF$cholesterol)\n",
        "\n",
        "summary(nutritionDF$scaled_cholesterol)\n",
        "\n",
        "# Determine the three sigma rule first for the Cholesterol attribute\n",
        "\n",
        "three_sigma_rule <- (nutritionDF$scaled_cholesterol < -3 |\n",
        "                     nutritionDF$scaled_cholesterol > 3 )\n",
        "\n",
        "cat (\"\\n\")\n",
        "# Number of Outliers\n",
        "cat (\"There are\", sum(three_sigma_rule), \"outliers \\n\\n\")\n",
        "\n",
        "\n",
        "cat(\"The scaled age values that are outliers: \\n\\n\")\n",
        "nutritionDF$scaled_cholesterol[which(three_sigma_rule)]"
      ],
      "metadata": {
        "colab": {
          "base_uri": "https://localhost:8080/",
          "height": 277
        },
        "id": "0MrEKrC6KvF6",
        "outputId": "f8b2168f-f050-459d-f7d4-c138bfcffb4d"
      },
      "execution_count": null,
      "outputs": [
        {
          "output_type": "display_data",
          "data": {
            "text/plain": [
              "       V1         \n",
              " Min.   :-0.2714  \n",
              " 1st Qu.:-0.2714  \n",
              " Median :-0.2714  \n",
              " Mean   : 0.0000  \n",
              " 3rd Qu.:-0.1046  \n",
              " Max.   :16.8426  "
            ]
          },
          "metadata": {}
        },
        {
          "output_type": "stream",
          "name": "stdout",
          "text": [
            "\n",
            "There are 17 outliers \n",
            "\n",
            "The scaled age values that are outliers: \n",
            "\n"
          ]
        },
        {
          "output_type": "display_data",
          "data": {
            "text/html": [
              "<style>\n",
              ".list-inline {list-style: none; margin:0; padding: 0}\n",
              ".list-inline>li {display: inline-block}\n",
              ".list-inline>li:not(:last-child)::after {content: \"\\00b7\"; padding: 0 .5ex}\n",
              "</style>\n",
              "<ol class=list-inline><li>3.1464200795253</li><li>4.35515037727471</li><li>8.14806269090217</li><li>5.06371641388643</li><li>16.842584763679</li><li>8.8983090826087</li><li>4.47185537154017</li><li>4.33014216421782</li><li>4.71360143109005</li><li>9.5902029771825</li><li>4.5302078686729</li><li>5.18875747917085</li><li>6.87264382500106</li><li>4.80529821229863</li><li>3.69660076677675</li><li>5.03037212981059</li><li>5.588888888081</li></ol>\n"
            ],
            "text/markdown": "1. 3.1464200795253\n2. 4.35515037727471\n3. 8.14806269090217\n4. 5.06371641388643\n5. 16.842584763679\n6. 8.8983090826087\n7. 4.47185537154017\n8. 4.33014216421782\n9. 4.71360143109005\n10. 9.5902029771825\n11. 4.5302078686729\n12. 5.18875747917085\n13. 6.87264382500106\n14. 4.80529821229863\n15. 3.69660076677675\n16. 5.03037212981059\n17. 5.588888888081\n\n\n",
            "text/latex": "\\begin{enumerate*}\n\\item 3.1464200795253\n\\item 4.35515037727471\n\\item 8.14806269090217\n\\item 5.06371641388643\n\\item 16.842584763679\n\\item 8.8983090826087\n\\item 4.47185537154017\n\\item 4.33014216421782\n\\item 4.71360143109005\n\\item 9.5902029771825\n\\item 4.5302078686729\n\\item 5.18875747917085\n\\item 6.87264382500106\n\\item 4.80529821229863\n\\item 3.69660076677675\n\\item 5.03037212981059\n\\item 5.588888888081\n\\end{enumerate*}\n",
            "text/plain": [
              " [1]  3.146420  4.355150  8.148063  5.063716 16.842585  8.898309  4.471855\n",
              " [8]  4.330142  4.713601  9.590203  4.530208  5.188757  6.872644  4.805298\n",
              "[15]  3.696601  5.030372  5.588889"
            ]
          },
          "metadata": {}
        }
      ]
    },
    {
      "cell_type": "markdown",
      "source": [
        "# **Findings**"
      ],
      "metadata": {
        "id": "BY1ILc4zLmVT"
      }
    },
    {
      "cell_type": "markdown",
      "source": [
        "After calculating saturated fat per gram, there is a major discrepancy between data values. Without a designated scale to determine by weight how much each nutritional value makes up of a food item, the items are being compared disproportionally. This may be why we see about 20 outliers for each nutritional point, as higher values seem like outliers but may not be being compared correctly by weight. To fix this, each nutritional value should be calculated by gram to remove this calculation issue.\n"
      ],
      "metadata": {
        "id": "HRF8df2YLwqn"
      }
    }
  ]
}