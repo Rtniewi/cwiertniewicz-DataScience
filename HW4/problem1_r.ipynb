{
  "nbformat": 4,
  "nbformat_minor": 0,
  "metadata": {
    "colab": {
      "provenance": [],
      "authorship_tag": "ABX9TyPKqtGC5JNN+8ONxwB717hs",
      "include_colab_link": true
    },
    "kernelspec": {
      "name": "ir",
      "display_name": "R"
    },
    "language_info": {
      "name": "R"
    }
  },
  "cells": [
    {
      "cell_type": "markdown",
      "metadata": {
        "id": "view-in-github",
        "colab_type": "text"
      },
      "source": [
        "<a href=\"https://colab.research.google.com/github/Rtniewi/cwiertniewicz-DataScience/blob/main/HW4/problem1_r.ipynb\" target=\"_parent\"><img src=\"https://colab.research.google.com/assets/colab-badge.svg\" alt=\"Open In Colab\"/></a>"
      ]
    },
    {
      "cell_type": "markdown",
      "source": [
        "//*** Katrina Cwiertniewicz\n",
        "//*** Introduction to Data Science IS1\n",
        "//***10/6/2025\n",
        "//*** Project 4: Problem 1 R\n",
        "###The purpose of this assignment is to create  contingency tables and answer questions using R to analyze the datasets provided.\n"
      ],
      "metadata": {
        "id": "8pW3amuwWpRq"
      }
    },
    {
      "cell_type": "code",
      "source": [
        "library(readr)\n",
        "adult_trainingDF  <- read_csv(\"https://raw.githubusercontent.com/bforoura/IDS/refs/heads/main/HW4/adult_training.csv\");\n"
      ],
      "metadata": {
        "colab": {
          "base_uri": "https://localhost:8080/"
        },
        "id": "F65HmfvH7f29",
        "outputId": "b99aefd1-fc58-45e4-9784-8184eaf77076"
      },
      "execution_count": null,
      "outputs": [
        {
          "output_type": "stream",
          "name": "stderr",
          "text": [
            "\u001b[1mRows: \u001b[22m\u001b[34m14797\u001b[39m \u001b[1mColumns: \u001b[22m\u001b[34m9\u001b[39m\n",
            "\u001b[36m──\u001b[39m \u001b[1mColumn specification\u001b[22m \u001b[36m────────────────────────────────────────────────────────\u001b[39m\n",
            "\u001b[1mDelimiter:\u001b[22m \",\"\n",
            "\u001b[31mchr\u001b[39m (5): workclass, marital-status, occupation, sex, income\n",
            "\u001b[32mdbl\u001b[39m (4): age, education, capital-gain, capital-loss\n",
            "\n",
            "\u001b[36mℹ\u001b[39m Use `spec()` to retrieve the full column specification for this data.\n",
            "\u001b[36mℹ\u001b[39m Specify the column types or set `show_col_types = FALSE` to quiet this message.\n"
          ]
        }
      ]
    },
    {
      "cell_type": "markdown",
      "source": [
        "# **Problem 1**"
      ],
      "metadata": {
        "id": "f_JnkbKrb5-j"
      }
    },
    {
      "cell_type": "markdown",
      "source": [
        "**Cross tabulation of Workclass and Sex**"
      ],
      "metadata": {
        "id": "nZ_qlFkAbwgF"
      }
    },
    {
      "cell_type": "code",
      "source": [
        "r_crosstab <- table(adult_trainingDF$workclass, adult_trainingDF$sex)\n",
        "\n",
        "ftable(r_crosstab)"
      ],
      "metadata": {
        "colab": {
          "base_uri": "https://localhost:8080/",
          "height": 208
        },
        "id": "iecbjAoZYD15",
        "outputId": "5b1bc95e-6f7b-4d33-ddf4-a00b0f0f8aea"
      },
      "execution_count": null,
      "outputs": [
        {
          "output_type": "display_data",
          "data": {
            "text/plain": [
              "                  Female Male\n",
              "                             \n",
              "?                    377  452\n",
              "Federal-gov          149  305\n",
              "Local-gov            377  592\n",
              "Never-worked           1    4\n",
              "Private             3574 6707\n",
              "Self-emp-inc          54  444\n",
              "Self-emp-not-inc     178  992\n",
              "State-gov            201  385\n",
              "Without-pay            1    4"
            ]
          },
          "metadata": {}
        }
      ]
    },
    {
      "cell_type": "markdown",
      "source": [
        "**Cross tabulation of Sex and Marital Status**"
      ],
      "metadata": {
        "id": "RLq9DH5cbi5b"
      }
    },
    {
      "cell_type": "code",
      "source": [
        "r_crosstab <- table(adult_trainingDF$`marital-status`, adult_trainingDF$sex)\n",
        "\n",
        "ftable(r_crosstab)\n"
      ],
      "metadata": {
        "colab": {
          "base_uri": "https://localhost:8080/",
          "height": 173
        },
        "id": "KYcugNs_YuOv",
        "outputId": "34a73c6e-64da-47db-cb23-7d1dfe553944"
      },
      "execution_count": null,
      "outputs": [
        {
          "output_type": "display_data",
          "data": {
            "text/plain": [
              "                       Female Male\n",
              "                                  \n",
              "Divorced                 1219  795\n",
              "Married-AF-spouse           7    4\n",
              "Married-civ-spouse        761 6010\n",
              "Married-spouse-absent      95  104\n",
              "Never-married            2160 2717\n",
              "Separated                 290  182\n",
              "Widowed                   380   73"
            ]
          },
          "metadata": {}
        }
      ]
    },
    {
      "cell_type": "markdown",
      "source": [
        "**Adults over 40 Data Frame**"
      ],
      "metadata": {
        "id": "bkVA3WbXcBNM"
      }
    },
    {
      "cell_type": "code",
      "source": [
        "adultOver40 <- adult_trainingDF[adult_trainingDF$age > 40, ]\n",
        "\n",
        "adultOver40"
      ],
      "metadata": {
        "colab": {
          "base_uri": "https://localhost:8080/",
          "height": 1000
        },
        "id": "2QnvbuHEdjZe",
        "outputId": "b83827dd-43ee-40b4-fa88-1280e1dccc40"
      },
      "execution_count": null,
      "outputs": [
        {
          "output_type": "display_data",
          "data": {
            "text/html": [
              "<table class=\"dataframe\">\n",
              "<caption>A tibble: 6144 × 9</caption>\n",
              "<thead>\n",
              "\t<tr><th scope=col>age</th><th scope=col>workclass</th><th scope=col>education</th><th scope=col>marital-status</th><th scope=col>occupation</th><th scope=col>sex</th><th scope=col>capital-gain</th><th scope=col>capital-loss</th><th scope=col>income</th></tr>\n",
              "\t<tr><th scope=col>&lt;dbl&gt;</th><th scope=col>&lt;chr&gt;</th><th scope=col>&lt;dbl&gt;</th><th scope=col>&lt;chr&gt;</th><th scope=col>&lt;chr&gt;</th><th scope=col>&lt;chr&gt;</th><th scope=col>&lt;dbl&gt;</th><th scope=col>&lt;dbl&gt;</th><th scope=col>&lt;chr&gt;</th></tr>\n",
              "</thead>\n",
              "<tbody>\n",
              "\t<tr><td>50</td><td>Self-emp-not-inc</td><td>13</td><td><span style=white-space:pre-wrap>Married-civ-spouse   </span></td><td><span style=white-space:pre-wrap>Exec-managerial  </span></td><td><span style=white-space:pre-wrap>Male  </span></td><td><span style=white-space:pre-wrap>    0</span></td><td><span style=white-space:pre-wrap>   0</span></td><td>&lt;=50K</td></tr>\n",
              "\t<tr><td>49</td><td><span style=white-space:pre-wrap>Private         </span></td><td> 5</td><td>Married-spouse-absent</td><td><span style=white-space:pre-wrap>Other-service    </span></td><td>Female</td><td><span style=white-space:pre-wrap>    0</span></td><td><span style=white-space:pre-wrap>   0</span></td><td>&lt;=50K</td></tr>\n",
              "\t<tr><td>52</td><td>Self-emp-not-inc</td><td> 9</td><td><span style=white-space:pre-wrap>Married-civ-spouse   </span></td><td><span style=white-space:pre-wrap>Exec-managerial  </span></td><td><span style=white-space:pre-wrap>Male  </span></td><td><span style=white-space:pre-wrap>    0</span></td><td><span style=white-space:pre-wrap>   0</span></td><td>&gt;50K </td></tr>\n",
              "\t<tr><td>43</td><td><span style=white-space:pre-wrap>Private         </span></td><td> 7</td><td><span style=white-space:pre-wrap>Married-civ-spouse   </span></td><td>Transport-moving </td><td><span style=white-space:pre-wrap>Male  </span></td><td><span style=white-space:pre-wrap>    0</span></td><td>2042</td><td>&lt;=50K</td></tr>\n",
              "\t<tr><td>54</td><td><span style=white-space:pre-wrap>?               </span></td><td>10</td><td><span style=white-space:pre-wrap>Married-civ-spouse   </span></td><td><span style=white-space:pre-wrap>?                </span></td><td><span style=white-space:pre-wrap>Male  </span></td><td><span style=white-space:pre-wrap>    0</span></td><td><span style=white-space:pre-wrap>   0</span></td><td>&gt;50K </td></tr>\n",
              "\t<tr><td>44</td><td><span style=white-space:pre-wrap>Private         </span></td><td>14</td><td><span style=white-space:pre-wrap>Divorced             </span></td><td><span style=white-space:pre-wrap>Exec-managerial  </span></td><td>Female</td><td><span style=white-space:pre-wrap>    0</span></td><td><span style=white-space:pre-wrap>   0</span></td><td>&lt;=50K</td></tr>\n",
              "\t<tr><td>50</td><td><span style=white-space:pre-wrap>Federal-gov     </span></td><td>13</td><td><span style=white-space:pre-wrap>Divorced             </span></td><td><span style=white-space:pre-wrap>Exec-managerial  </span></td><td><span style=white-space:pre-wrap>Male  </span></td><td><span style=white-space:pre-wrap>    0</span></td><td><span style=white-space:pre-wrap>   0</span></td><td>&gt;50K </td></tr>\n",
              "\t<tr><td>47</td><td><span style=white-space:pre-wrap>Self-emp-inc    </span></td><td> 9</td><td><span style=white-space:pre-wrap>Divorced             </span></td><td><span style=white-space:pre-wrap>Exec-managerial  </span></td><td><span style=white-space:pre-wrap>Male  </span></td><td><span style=white-space:pre-wrap>    0</span></td><td><span style=white-space:pre-wrap>   0</span></td><td>&lt;=50K</td></tr>\n",
              "\t<tr><td>43</td><td><span style=white-space:pre-wrap>Private         </span></td><td>10</td><td><span style=white-space:pre-wrap>Married-civ-spouse   </span></td><td><span style=white-space:pre-wrap>Tech-support     </span></td><td><span style=white-space:pre-wrap>Male  </span></td><td><span style=white-space:pre-wrap>    0</span></td><td><span style=white-space:pre-wrap>   0</span></td><td>&gt;50K </td></tr>\n",
              "\t<tr><td>53</td><td><span style=white-space:pre-wrap>Private         </span></td><td> 9</td><td><span style=white-space:pre-wrap>Married-civ-spouse   </span></td><td><span style=white-space:pre-wrap>Adm-clerical     </span></td><td>Female</td><td><span style=white-space:pre-wrap>    0</span></td><td><span style=white-space:pre-wrap>   0</span></td><td>&gt;50K </td></tr>\n",
              "\t<tr><td>79</td><td><span style=white-space:pre-wrap>Private         </span></td><td>10</td><td><span style=white-space:pre-wrap>Married-civ-spouse   </span></td><td><span style=white-space:pre-wrap>Prof-specialty   </span></td><td><span style=white-space:pre-wrap>Male  </span></td><td><span style=white-space:pre-wrap>    0</span></td><td><span style=white-space:pre-wrap>   0</span></td><td>&lt;=50K</td></tr>\n",
              "\t<tr><td>52</td><td><span style=white-space:pre-wrap>Private         </span></td><td>13</td><td><span style=white-space:pre-wrap>Married-civ-spouse   </span></td><td><span style=white-space:pre-wrap>Other-service    </span></td><td><span style=white-space:pre-wrap>Male  </span></td><td><span style=white-space:pre-wrap>    0</span></td><td><span style=white-space:pre-wrap>   0</span></td><td>&lt;=50K</td></tr>\n",
              "\t<tr><td>59</td><td><span style=white-space:pre-wrap>Private         </span></td><td> 9</td><td><span style=white-space:pre-wrap>Married-civ-spouse   </span></td><td><span style=white-space:pre-wrap>Sales            </span></td><td><span style=white-space:pre-wrap>Male  </span></td><td><span style=white-space:pre-wrap>    0</span></td><td><span style=white-space:pre-wrap>   0</span></td><td>&lt;=50K</td></tr>\n",
              "\t<tr><td>44</td><td><span style=white-space:pre-wrap>Private         </span></td><td> 9</td><td><span style=white-space:pre-wrap>Divorced             </span></td><td><span style=white-space:pre-wrap>Craft-repair     </span></td><td>Female</td><td>14344</td><td><span style=white-space:pre-wrap>   0</span></td><td>&gt;50K </td></tr>\n",
              "\t<tr><td>49</td><td><span style=white-space:pre-wrap>Local-gov       </span></td><td> 9</td><td><span style=white-space:pre-wrap>Married-civ-spouse   </span></td><td><span style=white-space:pre-wrap>Protective-serv  </span></td><td><span style=white-space:pre-wrap>Male  </span></td><td><span style=white-space:pre-wrap>    0</span></td><td><span style=white-space:pre-wrap>   0</span></td><td>&gt;50K </td></tr>\n",
              "\t<tr><td>43</td><td><span style=white-space:pre-wrap>Federal-gov     </span></td><td>16</td><td><span style=white-space:pre-wrap>Never-married        </span></td><td><span style=white-space:pre-wrap>Prof-specialty   </span></td><td>Female</td><td><span style=white-space:pre-wrap>    0</span></td><td><span style=white-space:pre-wrap>   0</span></td><td>&gt;50K </td></tr>\n",
              "\t<tr><td>76</td><td><span style=white-space:pre-wrap>Private         </span></td><td>14</td><td><span style=white-space:pre-wrap>Married-civ-spouse   </span></td><td><span style=white-space:pre-wrap>Exec-managerial  </span></td><td><span style=white-space:pre-wrap>Male  </span></td><td><span style=white-space:pre-wrap>    0</span></td><td><span style=white-space:pre-wrap>   0</span></td><td>&gt;50K </td></tr>\n",
              "\t<tr><td>44</td><td><span style=white-space:pre-wrap>Private         </span></td><td>13</td><td><span style=white-space:pre-wrap>Married-civ-spouse   </span></td><td><span style=white-space:pre-wrap>Exec-managerial  </span></td><td><span style=white-space:pre-wrap>Male  </span></td><td>15024</td><td><span style=white-space:pre-wrap>   0</span></td><td>&gt;50K </td></tr>\n",
              "\t<tr><td>47</td><td>Self-emp-not-inc</td><td>14</td><td><span style=white-space:pre-wrap>Never-married        </span></td><td><span style=white-space:pre-wrap>Prof-specialty   </span></td><td>Female</td><td><span style=white-space:pre-wrap>    0</span></td><td><span style=white-space:pre-wrap>   0</span></td><td>&lt;=50K</td></tr>\n",
              "\t<tr><td>42</td><td><span style=white-space:pre-wrap>Private         </span></td><td> 9</td><td><span style=white-space:pre-wrap>Married-civ-spouse   </span></td><td>Handlers-cleaners</td><td><span style=white-space:pre-wrap>Male  </span></td><td><span style=white-space:pre-wrap>    0</span></td><td><span style=white-space:pre-wrap>   0</span></td><td>&lt;=50K</td></tr>\n",
              "\t<tr><td>53</td><td><span style=white-space:pre-wrap>Private         </span></td><td> 5</td><td><span style=white-space:pre-wrap>Married-civ-spouse   </span></td><td>Handlers-cleaners</td><td><span style=white-space:pre-wrap>Male  </span></td><td><span style=white-space:pre-wrap>    0</span></td><td><span style=white-space:pre-wrap>   0</span></td><td>&lt;=50K</td></tr>\n",
              "\t<tr><td>56</td><td><span style=white-space:pre-wrap>Self-emp-inc    </span></td><td>10</td><td><span style=white-space:pre-wrap>Married-civ-spouse   </span></td><td><span style=white-space:pre-wrap>Sales            </span></td><td><span style=white-space:pre-wrap>Male  </span></td><td><span style=white-space:pre-wrap>    0</span></td><td><span style=white-space:pre-wrap>   0</span></td><td>&lt;=50K</td></tr>\n",
              "\t<tr><td>49</td><td><span style=white-space:pre-wrap>Local-gov       </span></td><td>11</td><td><span style=white-space:pre-wrap>Married-civ-spouse   </span></td><td><span style=white-space:pre-wrap>Craft-repair     </span></td><td><span style=white-space:pre-wrap>Male  </span></td><td><span style=white-space:pre-wrap>    0</span></td><td><span style=white-space:pre-wrap>   0</span></td><td>&gt;50K </td></tr>\n",
              "\t<tr><td>49</td><td><span style=white-space:pre-wrap>Private         </span></td><td>10</td><td><span style=white-space:pre-wrap>Married-civ-spouse   </span></td><td><span style=white-space:pre-wrap>Craft-repair     </span></td><td><span style=white-space:pre-wrap>Male  </span></td><td><span style=white-space:pre-wrap>    0</span></td><td><span style=white-space:pre-wrap>   0</span></td><td>&gt;50K </td></tr>\n",
              "\t<tr><td>61</td><td><span style=white-space:pre-wrap>Self-emp-inc    </span></td><td> 9</td><td><span style=white-space:pre-wrap>Married-civ-spouse   </span></td><td><span style=white-space:pre-wrap>Craft-repair     </span></td><td><span style=white-space:pre-wrap>Male  </span></td><td><span style=white-space:pre-wrap>    0</span></td><td><span style=white-space:pre-wrap>   0</span></td><td>&lt;=50K</td></tr>\n",
              "\t<tr><td>45</td><td><span style=white-space:pre-wrap>Private         </span></td><td>11</td><td><span style=white-space:pre-wrap>Never-married        </span></td><td><span style=white-space:pre-wrap>Prof-specialty   </span></td><td>Female</td><td><span style=white-space:pre-wrap>    0</span></td><td>1564</td><td>&gt;50K </td></tr>\n",
              "\t<tr><td>52</td><td><span style=white-space:pre-wrap>?               </span></td><td> 9</td><td><span style=white-space:pre-wrap>Divorced             </span></td><td><span style=white-space:pre-wrap>?                </span></td><td><span style=white-space:pre-wrap>Male  </span></td><td><span style=white-space:pre-wrap>    0</span></td><td><span style=white-space:pre-wrap>   0</span></td><td>&gt;50K </td></tr>\n",
              "\t<tr><td>71</td><td>Self-emp-not-inc</td><td>10</td><td><span style=white-space:pre-wrap>Separated            </span></td><td><span style=white-space:pre-wrap>Sales            </span></td><td><span style=white-space:pre-wrap>Male  </span></td><td><span style=white-space:pre-wrap>    0</span></td><td>1816</td><td>&lt;=50K</td></tr>\n",
              "\t<tr><td>68</td><td><span style=white-space:pre-wrap>?               </span></td><td> 2</td><td><span style=white-space:pre-wrap>Divorced             </span></td><td><span style=white-space:pre-wrap>?                </span></td><td>Female</td><td><span style=white-space:pre-wrap>    0</span></td><td><span style=white-space:pre-wrap>   0</span></td><td>&lt;=50K</td></tr>\n",
              "\t<tr><td>46</td><td><span style=white-space:pre-wrap>State-gov       </span></td><td>14</td><td><span style=white-space:pre-wrap>Widowed              </span></td><td><span style=white-space:pre-wrap>Protective-serv  </span></td><td><span style=white-space:pre-wrap>Male  </span></td><td><span style=white-space:pre-wrap>    0</span></td><td><span style=white-space:pre-wrap>   0</span></td><td>&lt;=50K</td></tr>\n",
              "\t<tr><td>⋮</td><td>⋮</td><td>⋮</td><td>⋮</td><td>⋮</td><td>⋮</td><td>⋮</td><td>⋮</td><td>⋮</td></tr>\n",
              "\t<tr><td>53</td><td><span style=white-space:pre-wrap>Private         </span></td><td>10</td><td>Married-civ-spouse</td><td>Transport-moving </td><td><span style=white-space:pre-wrap>Male  </span></td><td><span style=white-space:pre-wrap>   0</span></td><td>1887</td><td>&gt;50K </td></tr>\n",
              "\t<tr><td>51</td><td><span style=white-space:pre-wrap>Private         </span></td><td> 9</td><td>Married-civ-spouse</td><td><span style=white-space:pre-wrap>Craft-repair     </span></td><td><span style=white-space:pre-wrap>Male  </span></td><td><span style=white-space:pre-wrap>   0</span></td><td><span style=white-space:pre-wrap>   0</span></td><td>&lt;=50K</td></tr>\n",
              "\t<tr><td>53</td><td><span style=white-space:pre-wrap>Private         </span></td><td> 9</td><td><span style=white-space:pre-wrap>Widowed           </span></td><td>Machine-op-inspct</td><td>Female</td><td><span style=white-space:pre-wrap>   0</span></td><td><span style=white-space:pre-wrap>   0</span></td><td>&lt;=50K</td></tr>\n",
              "\t<tr><td>61</td><td><span style=white-space:pre-wrap>Private         </span></td><td> 4</td><td>Married-civ-spouse</td><td><span style=white-space:pre-wrap>Craft-repair     </span></td><td><span style=white-space:pre-wrap>Male  </span></td><td><span style=white-space:pre-wrap>   0</span></td><td><span style=white-space:pre-wrap>   0</span></td><td>&lt;=50K</td></tr>\n",
              "\t<tr><td>44</td><td><span style=white-space:pre-wrap>Self-emp-inc    </span></td><td>14</td><td>Married-civ-spouse</td><td><span style=white-space:pre-wrap>Sales            </span></td><td><span style=white-space:pre-wrap>Male  </span></td><td><span style=white-space:pre-wrap>   0</span></td><td><span style=white-space:pre-wrap>   0</span></td><td>&gt;50K </td></tr>\n",
              "\t<tr><td>85</td><td><span style=white-space:pre-wrap>Private         </span></td><td>13</td><td>Married-civ-spouse</td><td><span style=white-space:pre-wrap>Exec-managerial  </span></td><td><span style=white-space:pre-wrap>Male  </span></td><td><span style=white-space:pre-wrap>   0</span></td><td><span style=white-space:pre-wrap>   0</span></td><td>&lt;=50K</td></tr>\n",
              "\t<tr><td>62</td><td><span style=white-space:pre-wrap>Private         </span></td><td> 9</td><td><span style=white-space:pre-wrap>Widowed           </span></td><td><span style=white-space:pre-wrap>Adm-clerical     </span></td><td>Female</td><td><span style=white-space:pre-wrap>   0</span></td><td><span style=white-space:pre-wrap>   0</span></td><td>&lt;=50K</td></tr>\n",
              "\t<tr><td>48</td><td><span style=white-space:pre-wrap>Self-emp-inc    </span></td><td> 9</td><td>Married-civ-spouse</td><td><span style=white-space:pre-wrap>Craft-repair     </span></td><td><span style=white-space:pre-wrap>Male  </span></td><td>7298</td><td><span style=white-space:pre-wrap>   0</span></td><td>&gt;50K </td></tr>\n",
              "\t<tr><td>58</td><td><span style=white-space:pre-wrap>Local-gov       </span></td><td> 9</td><td>Married-civ-spouse</td><td><span style=white-space:pre-wrap>Other-service    </span></td><td><span style=white-space:pre-wrap>Male  </span></td><td><span style=white-space:pre-wrap>   0</span></td><td><span style=white-space:pre-wrap>   0</span></td><td>&lt;=50K</td></tr>\n",
              "\t<tr><td>66</td><td><span style=white-space:pre-wrap>Private         </span></td><td> 9</td><td><span style=white-space:pre-wrap>Widowed           </span></td><td><span style=white-space:pre-wrap>Exec-managerial  </span></td><td>Female</td><td><span style=white-space:pre-wrap>   0</span></td><td><span style=white-space:pre-wrap>   0</span></td><td>&lt;=50K</td></tr>\n",
              "\t<tr><td>58</td><td><span style=white-space:pre-wrap>Self-emp-inc    </span></td><td>16</td><td><span style=white-space:pre-wrap>Never-married     </span></td><td><span style=white-space:pre-wrap>Prof-specialty   </span></td><td>Female</td><td><span style=white-space:pre-wrap>   0</span></td><td><span style=white-space:pre-wrap>   0</span></td><td>&lt;=50K</td></tr>\n",
              "\t<tr><td>50</td><td><span style=white-space:pre-wrap>Private         </span></td><td>16</td><td><span style=white-space:pre-wrap>Divorced          </span></td><td><span style=white-space:pre-wrap>Prof-specialty   </span></td><td>Female</td><td><span style=white-space:pre-wrap>   0</span></td><td><span style=white-space:pre-wrap>   0</span></td><td>&lt;=50K</td></tr>\n",
              "\t<tr><td>49</td><td><span style=white-space:pre-wrap>?               </span></td><td> 8</td><td><span style=white-space:pre-wrap>Divorced          </span></td><td><span style=white-space:pre-wrap>?                </span></td><td><span style=white-space:pre-wrap>Male  </span></td><td><span style=white-space:pre-wrap>   0</span></td><td><span style=white-space:pre-wrap>   0</span></td><td>&lt;=50K</td></tr>\n",
              "\t<tr><td>64</td><td><span style=white-space:pre-wrap>State-gov       </span></td><td> 4</td><td>Married-civ-spouse</td><td><span style=white-space:pre-wrap>Other-service    </span></td><td>Female</td><td><span style=white-space:pre-wrap>   0</span></td><td><span style=white-space:pre-wrap>   0</span></td><td>&lt;=50K</td></tr>\n",
              "\t<tr><td>41</td><td><span style=white-space:pre-wrap>Private         </span></td><td>14</td><td>Married-civ-spouse</td><td><span style=white-space:pre-wrap>Exec-managerial  </span></td><td><span style=white-space:pre-wrap>Male  </span></td><td><span style=white-space:pre-wrap>   0</span></td><td><span style=white-space:pre-wrap>   0</span></td><td>&gt;50K </td></tr>\n",
              "\t<tr><td>52</td><td><span style=white-space:pre-wrap>Private         </span></td><td>11</td><td><span style=white-space:pre-wrap>Separated         </span></td><td><span style=white-space:pre-wrap>Sales            </span></td><td>Female</td><td><span style=white-space:pre-wrap>   0</span></td><td><span style=white-space:pre-wrap>   0</span></td><td>&lt;=50K</td></tr>\n",
              "\t<tr><td>42</td><td>Self-emp-not-inc</td><td> 9</td><td><span style=white-space:pre-wrap>Divorced          </span></td><td><span style=white-space:pre-wrap>Sales            </span></td><td><span style=white-space:pre-wrap>Male  </span></td><td><span style=white-space:pre-wrap>   0</span></td><td><span style=white-space:pre-wrap>   0</span></td><td>&lt;=50K</td></tr>\n",
              "\t<tr><td>82</td><td><span style=white-space:pre-wrap>?               </span></td><td> 9</td><td><span style=white-space:pre-wrap>Never-married     </span></td><td><span style=white-space:pre-wrap>?                </span></td><td><span style=white-space:pre-wrap>Male  </span></td><td><span style=white-space:pre-wrap>   0</span></td><td><span style=white-space:pre-wrap>   0</span></td><td>&lt;=50K</td></tr>\n",
              "\t<tr><td>57</td><td><span style=white-space:pre-wrap>Private         </span></td><td> 9</td><td>Married-civ-spouse</td><td>Transport-moving </td><td><span style=white-space:pre-wrap>Male  </span></td><td><span style=white-space:pre-wrap>   0</span></td><td><span style=white-space:pre-wrap>   0</span></td><td>&lt;=50K</td></tr>\n",
              "\t<tr><td>71</td><td><span style=white-space:pre-wrap>Private         </span></td><td> 5</td><td>Married-civ-spouse</td><td><span style=white-space:pre-wrap>Other-service    </span></td><td><span style=white-space:pre-wrap>Male  </span></td><td><span style=white-space:pre-wrap>   0</span></td><td><span style=white-space:pre-wrap>   0</span></td><td>&lt;=50K</td></tr>\n",
              "\t<tr><td>45</td><td><span style=white-space:pre-wrap>Private         </span></td><td> 6</td><td><span style=white-space:pre-wrap>Divorced          </span></td><td><span style=white-space:pre-wrap>Other-service    </span></td><td>Female</td><td><span style=white-space:pre-wrap>   0</span></td><td><span style=white-space:pre-wrap>   0</span></td><td>&lt;=50K</td></tr>\n",
              "\t<tr><td>46</td><td><span style=white-space:pre-wrap>Private         </span></td><td>14</td><td>Married-civ-spouse</td><td><span style=white-space:pre-wrap>Prof-specialty   </span></td><td>Female</td><td><span style=white-space:pre-wrap>   0</span></td><td><span style=white-space:pre-wrap>   0</span></td><td>&gt;50K </td></tr>\n",
              "\t<tr><td>66</td><td><span style=white-space:pre-wrap>Federal-gov     </span></td><td> 6</td><td>Married-civ-spouse</td><td><span style=white-space:pre-wrap>Craft-repair     </span></td><td><span style=white-space:pre-wrap>Male  </span></td><td>3471</td><td><span style=white-space:pre-wrap>   0</span></td><td>&lt;=50K</td></tr>\n",
              "\t<tr><td>46</td><td><span style=white-space:pre-wrap>Private         </span></td><td>10</td><td>Married-civ-spouse</td><td><span style=white-space:pre-wrap>Exec-managerial  </span></td><td><span style=white-space:pre-wrap>Male  </span></td><td><span style=white-space:pre-wrap>   0</span></td><td><span style=white-space:pre-wrap>   0</span></td><td>&gt;50K </td></tr>\n",
              "\t<tr><td>58</td><td><span style=white-space:pre-wrap>Private         </span></td><td> 7</td><td>Married-civ-spouse</td><td><span style=white-space:pre-wrap>Sales            </span></td><td><span style=white-space:pre-wrap>Male  </span></td><td><span style=white-space:pre-wrap>   0</span></td><td><span style=white-space:pre-wrap>   0</span></td><td>&lt;=50K</td></tr>\n",
              "\t<tr><td>45</td><td><span style=white-space:pre-wrap>Local-gov       </span></td><td>12</td><td><span style=white-space:pre-wrap>Divorced          </span></td><td><span style=white-space:pre-wrap>Prof-specialty   </span></td><td>Female</td><td><span style=white-space:pre-wrap>   0</span></td><td><span style=white-space:pre-wrap>   0</span></td><td>&lt;=50K</td></tr>\n",
              "\t<tr><td>65</td><td>Self-emp-not-inc</td><td>15</td><td><span style=white-space:pre-wrap>Never-married     </span></td><td><span style=white-space:pre-wrap>Prof-specialty   </span></td><td><span style=white-space:pre-wrap>Male  </span></td><td>1086</td><td><span style=white-space:pre-wrap>   0</span></td><td>&lt;=50K</td></tr>\n",
              "\t<tr><td>43</td><td><span style=white-space:pre-wrap>State-gov       </span></td><td>10</td><td><span style=white-space:pre-wrap>Divorced          </span></td><td><span style=white-space:pre-wrap>Adm-clerical     </span></td><td>Female</td><td><span style=white-space:pre-wrap>   0</span></td><td><span style=white-space:pre-wrap>   0</span></td><td>&lt;=50K</td></tr>\n",
              "\t<tr><td>43</td><td>Self-emp-not-inc</td><td>10</td><td>Married-civ-spouse</td><td><span style=white-space:pre-wrap>Craft-repair     </span></td><td><span style=white-space:pre-wrap>Male  </span></td><td><span style=white-space:pre-wrap>   0</span></td><td><span style=white-space:pre-wrap>   0</span></td><td>&lt;=50K</td></tr>\n",
              "\t<tr><td>58</td><td><span style=white-space:pre-wrap>Private         </span></td><td> 9</td><td><span style=white-space:pre-wrap>Widowed           </span></td><td><span style=white-space:pre-wrap>Adm-clerical     </span></td><td>Female</td><td><span style=white-space:pre-wrap>   0</span></td><td><span style=white-space:pre-wrap>   0</span></td><td>&lt;=50K</td></tr>\n",
              "</tbody>\n",
              "</table>\n"
            ],
            "text/markdown": "\nA tibble: 6144 × 9\n\n| age &lt;dbl&gt; | workclass &lt;chr&gt; | education &lt;dbl&gt; | marital-status &lt;chr&gt; | occupation &lt;chr&gt; | sex &lt;chr&gt; | capital-gain &lt;dbl&gt; | capital-loss &lt;dbl&gt; | income &lt;chr&gt; |\n|---|---|---|---|---|---|---|---|---|\n| 50 | Self-emp-not-inc | 13 | Married-civ-spouse    | Exec-managerial   | Male   |     0 |    0 | &lt;=50K |\n| 49 | Private          |  5 | Married-spouse-absent | Other-service     | Female |     0 |    0 | &lt;=50K |\n| 52 | Self-emp-not-inc |  9 | Married-civ-spouse    | Exec-managerial   | Male   |     0 |    0 | &gt;50K  |\n| 43 | Private          |  7 | Married-civ-spouse    | Transport-moving  | Male   |     0 | 2042 | &lt;=50K |\n| 54 | ?                | 10 | Married-civ-spouse    | ?                 | Male   |     0 |    0 | &gt;50K  |\n| 44 | Private          | 14 | Divorced              | Exec-managerial   | Female |     0 |    0 | &lt;=50K |\n| 50 | Federal-gov      | 13 | Divorced              | Exec-managerial   | Male   |     0 |    0 | &gt;50K  |\n| 47 | Self-emp-inc     |  9 | Divorced              | Exec-managerial   | Male   |     0 |    0 | &lt;=50K |\n| 43 | Private          | 10 | Married-civ-spouse    | Tech-support      | Male   |     0 |    0 | &gt;50K  |\n| 53 | Private          |  9 | Married-civ-spouse    | Adm-clerical      | Female |     0 |    0 | &gt;50K  |\n| 79 | Private          | 10 | Married-civ-spouse    | Prof-specialty    | Male   |     0 |    0 | &lt;=50K |\n| 52 | Private          | 13 | Married-civ-spouse    | Other-service     | Male   |     0 |    0 | &lt;=50K |\n| 59 | Private          |  9 | Married-civ-spouse    | Sales             | Male   |     0 |    0 | &lt;=50K |\n| 44 | Private          |  9 | Divorced              | Craft-repair      | Female | 14344 |    0 | &gt;50K  |\n| 49 | Local-gov        |  9 | Married-civ-spouse    | Protective-serv   | Male   |     0 |    0 | &gt;50K  |\n| 43 | Federal-gov      | 16 | Never-married         | Prof-specialty    | Female |     0 |    0 | &gt;50K  |\n| 76 | Private          | 14 | Married-civ-spouse    | Exec-managerial   | Male   |     0 |    0 | &gt;50K  |\n| 44 | Private          | 13 | Married-civ-spouse    | Exec-managerial   | Male   | 15024 |    0 | &gt;50K  |\n| 47 | Self-emp-not-inc | 14 | Never-married         | Prof-specialty    | Female |     0 |    0 | &lt;=50K |\n| 42 | Private          |  9 | Married-civ-spouse    | Handlers-cleaners | Male   |     0 |    0 | &lt;=50K |\n| 53 | Private          |  5 | Married-civ-spouse    | Handlers-cleaners | Male   |     0 |    0 | &lt;=50K |\n| 56 | Self-emp-inc     | 10 | Married-civ-spouse    | Sales             | Male   |     0 |    0 | &lt;=50K |\n| 49 | Local-gov        | 11 | Married-civ-spouse    | Craft-repair      | Male   |     0 |    0 | &gt;50K  |\n| 49 | Private          | 10 | Married-civ-spouse    | Craft-repair      | Male   |     0 |    0 | &gt;50K  |\n| 61 | Self-emp-inc     |  9 | Married-civ-spouse    | Craft-repair      | Male   |     0 |    0 | &lt;=50K |\n| 45 | Private          | 11 | Never-married         | Prof-specialty    | Female |     0 | 1564 | &gt;50K  |\n| 52 | ?                |  9 | Divorced              | ?                 | Male   |     0 |    0 | &gt;50K  |\n| 71 | Self-emp-not-inc | 10 | Separated             | Sales             | Male   |     0 | 1816 | &lt;=50K |\n| 68 | ?                |  2 | Divorced              | ?                 | Female |     0 |    0 | &lt;=50K |\n| 46 | State-gov        | 14 | Widowed               | Protective-serv   | Male   |     0 |    0 | &lt;=50K |\n| ⋮ | ⋮ | ⋮ | ⋮ | ⋮ | ⋮ | ⋮ | ⋮ | ⋮ |\n| 53 | Private          | 10 | Married-civ-spouse | Transport-moving  | Male   |    0 | 1887 | &gt;50K  |\n| 51 | Private          |  9 | Married-civ-spouse | Craft-repair      | Male   |    0 |    0 | &lt;=50K |\n| 53 | Private          |  9 | Widowed            | Machine-op-inspct | Female |    0 |    0 | &lt;=50K |\n| 61 | Private          |  4 | Married-civ-spouse | Craft-repair      | Male   |    0 |    0 | &lt;=50K |\n| 44 | Self-emp-inc     | 14 | Married-civ-spouse | Sales             | Male   |    0 |    0 | &gt;50K  |\n| 85 | Private          | 13 | Married-civ-spouse | Exec-managerial   | Male   |    0 |    0 | &lt;=50K |\n| 62 | Private          |  9 | Widowed            | Adm-clerical      | Female |    0 |    0 | &lt;=50K |\n| 48 | Self-emp-inc     |  9 | Married-civ-spouse | Craft-repair      | Male   | 7298 |    0 | &gt;50K  |\n| 58 | Local-gov        |  9 | Married-civ-spouse | Other-service     | Male   |    0 |    0 | &lt;=50K |\n| 66 | Private          |  9 | Widowed            | Exec-managerial   | Female |    0 |    0 | &lt;=50K |\n| 58 | Self-emp-inc     | 16 | Never-married      | Prof-specialty    | Female |    0 |    0 | &lt;=50K |\n| 50 | Private          | 16 | Divorced           | Prof-specialty    | Female |    0 |    0 | &lt;=50K |\n| 49 | ?                |  8 | Divorced           | ?                 | Male   |    0 |    0 | &lt;=50K |\n| 64 | State-gov        |  4 | Married-civ-spouse | Other-service     | Female |    0 |    0 | &lt;=50K |\n| 41 | Private          | 14 | Married-civ-spouse | Exec-managerial   | Male   |    0 |    0 | &gt;50K  |\n| 52 | Private          | 11 | Separated          | Sales             | Female |    0 |    0 | &lt;=50K |\n| 42 | Self-emp-not-inc |  9 | Divorced           | Sales             | Male   |    0 |    0 | &lt;=50K |\n| 82 | ?                |  9 | Never-married      | ?                 | Male   |    0 |    0 | &lt;=50K |\n| 57 | Private          |  9 | Married-civ-spouse | Transport-moving  | Male   |    0 |    0 | &lt;=50K |\n| 71 | Private          |  5 | Married-civ-spouse | Other-service     | Male   |    0 |    0 | &lt;=50K |\n| 45 | Private          |  6 | Divorced           | Other-service     | Female |    0 |    0 | &lt;=50K |\n| 46 | Private          | 14 | Married-civ-spouse | Prof-specialty    | Female |    0 |    0 | &gt;50K  |\n| 66 | Federal-gov      |  6 | Married-civ-spouse | Craft-repair      | Male   | 3471 |    0 | &lt;=50K |\n| 46 | Private          | 10 | Married-civ-spouse | Exec-managerial   | Male   |    0 |    0 | &gt;50K  |\n| 58 | Private          |  7 | Married-civ-spouse | Sales             | Male   |    0 |    0 | &lt;=50K |\n| 45 | Local-gov        | 12 | Divorced           | Prof-specialty    | Female |    0 |    0 | &lt;=50K |\n| 65 | Self-emp-not-inc | 15 | Never-married      | Prof-specialty    | Male   | 1086 |    0 | &lt;=50K |\n| 43 | State-gov        | 10 | Divorced           | Adm-clerical      | Female |    0 |    0 | &lt;=50K |\n| 43 | Self-emp-not-inc | 10 | Married-civ-spouse | Craft-repair      | Male   |    0 |    0 | &lt;=50K |\n| 58 | Private          |  9 | Widowed            | Adm-clerical      | Female |    0 |    0 | &lt;=50K |\n\n",
            "text/latex": "A tibble: 6144 × 9\n\\begin{tabular}{lllllllll}\n age & workclass & education & marital-status & occupation & sex & capital-gain & capital-loss & income\\\\\n <dbl> & <chr> & <dbl> & <chr> & <chr> & <chr> & <dbl> & <dbl> & <chr>\\\\\n\\hline\n\t 50 & Self-emp-not-inc & 13 & Married-civ-spouse    & Exec-managerial   & Male   &     0 &    0 & <=50K\\\\\n\t 49 & Private          &  5 & Married-spouse-absent & Other-service     & Female &     0 &    0 & <=50K\\\\\n\t 52 & Self-emp-not-inc &  9 & Married-civ-spouse    & Exec-managerial   & Male   &     0 &    0 & >50K \\\\\n\t 43 & Private          &  7 & Married-civ-spouse    & Transport-moving  & Male   &     0 & 2042 & <=50K\\\\\n\t 54 & ?                & 10 & Married-civ-spouse    & ?                 & Male   &     0 &    0 & >50K \\\\\n\t 44 & Private          & 14 & Divorced              & Exec-managerial   & Female &     0 &    0 & <=50K\\\\\n\t 50 & Federal-gov      & 13 & Divorced              & Exec-managerial   & Male   &     0 &    0 & >50K \\\\\n\t 47 & Self-emp-inc     &  9 & Divorced              & Exec-managerial   & Male   &     0 &    0 & <=50K\\\\\n\t 43 & Private          & 10 & Married-civ-spouse    & Tech-support      & Male   &     0 &    0 & >50K \\\\\n\t 53 & Private          &  9 & Married-civ-spouse    & Adm-clerical      & Female &     0 &    0 & >50K \\\\\n\t 79 & Private          & 10 & Married-civ-spouse    & Prof-specialty    & Male   &     0 &    0 & <=50K\\\\\n\t 52 & Private          & 13 & Married-civ-spouse    & Other-service     & Male   &     0 &    0 & <=50K\\\\\n\t 59 & Private          &  9 & Married-civ-spouse    & Sales             & Male   &     0 &    0 & <=50K\\\\\n\t 44 & Private          &  9 & Divorced              & Craft-repair      & Female & 14344 &    0 & >50K \\\\\n\t 49 & Local-gov        &  9 & Married-civ-spouse    & Protective-serv   & Male   &     0 &    0 & >50K \\\\\n\t 43 & Federal-gov      & 16 & Never-married         & Prof-specialty    & Female &     0 &    0 & >50K \\\\\n\t 76 & Private          & 14 & Married-civ-spouse    & Exec-managerial   & Male   &     0 &    0 & >50K \\\\\n\t 44 & Private          & 13 & Married-civ-spouse    & Exec-managerial   & Male   & 15024 &    0 & >50K \\\\\n\t 47 & Self-emp-not-inc & 14 & Never-married         & Prof-specialty    & Female &     0 &    0 & <=50K\\\\\n\t 42 & Private          &  9 & Married-civ-spouse    & Handlers-cleaners & Male   &     0 &    0 & <=50K\\\\\n\t 53 & Private          &  5 & Married-civ-spouse    & Handlers-cleaners & Male   &     0 &    0 & <=50K\\\\\n\t 56 & Self-emp-inc     & 10 & Married-civ-spouse    & Sales             & Male   &     0 &    0 & <=50K\\\\\n\t 49 & Local-gov        & 11 & Married-civ-spouse    & Craft-repair      & Male   &     0 &    0 & >50K \\\\\n\t 49 & Private          & 10 & Married-civ-spouse    & Craft-repair      & Male   &     0 &    0 & >50K \\\\\n\t 61 & Self-emp-inc     &  9 & Married-civ-spouse    & Craft-repair      & Male   &     0 &    0 & <=50K\\\\\n\t 45 & Private          & 11 & Never-married         & Prof-specialty    & Female &     0 & 1564 & >50K \\\\\n\t 52 & ?                &  9 & Divorced              & ?                 & Male   &     0 &    0 & >50K \\\\\n\t 71 & Self-emp-not-inc & 10 & Separated             & Sales             & Male   &     0 & 1816 & <=50K\\\\\n\t 68 & ?                &  2 & Divorced              & ?                 & Female &     0 &    0 & <=50K\\\\\n\t 46 & State-gov        & 14 & Widowed               & Protective-serv   & Male   &     0 &    0 & <=50K\\\\\n\t ⋮ & ⋮ & ⋮ & ⋮ & ⋮ & ⋮ & ⋮ & ⋮ & ⋮\\\\\n\t 53 & Private          & 10 & Married-civ-spouse & Transport-moving  & Male   &    0 & 1887 & >50K \\\\\n\t 51 & Private          &  9 & Married-civ-spouse & Craft-repair      & Male   &    0 &    0 & <=50K\\\\\n\t 53 & Private          &  9 & Widowed            & Machine-op-inspct & Female &    0 &    0 & <=50K\\\\\n\t 61 & Private          &  4 & Married-civ-spouse & Craft-repair      & Male   &    0 &    0 & <=50K\\\\\n\t 44 & Self-emp-inc     & 14 & Married-civ-spouse & Sales             & Male   &    0 &    0 & >50K \\\\\n\t 85 & Private          & 13 & Married-civ-spouse & Exec-managerial   & Male   &    0 &    0 & <=50K\\\\\n\t 62 & Private          &  9 & Widowed            & Adm-clerical      & Female &    0 &    0 & <=50K\\\\\n\t 48 & Self-emp-inc     &  9 & Married-civ-spouse & Craft-repair      & Male   & 7298 &    0 & >50K \\\\\n\t 58 & Local-gov        &  9 & Married-civ-spouse & Other-service     & Male   &    0 &    0 & <=50K\\\\\n\t 66 & Private          &  9 & Widowed            & Exec-managerial   & Female &    0 &    0 & <=50K\\\\\n\t 58 & Self-emp-inc     & 16 & Never-married      & Prof-specialty    & Female &    0 &    0 & <=50K\\\\\n\t 50 & Private          & 16 & Divorced           & Prof-specialty    & Female &    0 &    0 & <=50K\\\\\n\t 49 & ?                &  8 & Divorced           & ?                 & Male   &    0 &    0 & <=50K\\\\\n\t 64 & State-gov        &  4 & Married-civ-spouse & Other-service     & Female &    0 &    0 & <=50K\\\\\n\t 41 & Private          & 14 & Married-civ-spouse & Exec-managerial   & Male   &    0 &    0 & >50K \\\\\n\t 52 & Private          & 11 & Separated          & Sales             & Female &    0 &    0 & <=50K\\\\\n\t 42 & Self-emp-not-inc &  9 & Divorced           & Sales             & Male   &    0 &    0 & <=50K\\\\\n\t 82 & ?                &  9 & Never-married      & ?                 & Male   &    0 &    0 & <=50K\\\\\n\t 57 & Private          &  9 & Married-civ-spouse & Transport-moving  & Male   &    0 &    0 & <=50K\\\\\n\t 71 & Private          &  5 & Married-civ-spouse & Other-service     & Male   &    0 &    0 & <=50K\\\\\n\t 45 & Private          &  6 & Divorced           & Other-service     & Female &    0 &    0 & <=50K\\\\\n\t 46 & Private          & 14 & Married-civ-spouse & Prof-specialty    & Female &    0 &    0 & >50K \\\\\n\t 66 & Federal-gov      &  6 & Married-civ-spouse & Craft-repair      & Male   & 3471 &    0 & <=50K\\\\\n\t 46 & Private          & 10 & Married-civ-spouse & Exec-managerial   & Male   &    0 &    0 & >50K \\\\\n\t 58 & Private          &  7 & Married-civ-spouse & Sales             & Male   &    0 &    0 & <=50K\\\\\n\t 45 & Local-gov        & 12 & Divorced           & Prof-specialty    & Female &    0 &    0 & <=50K\\\\\n\t 65 & Self-emp-not-inc & 15 & Never-married      & Prof-specialty    & Male   & 1086 &    0 & <=50K\\\\\n\t 43 & State-gov        & 10 & Divorced           & Adm-clerical      & Female &    0 &    0 & <=50K\\\\\n\t 43 & Self-emp-not-inc & 10 & Married-civ-spouse & Craft-repair      & Male   &    0 &    0 & <=50K\\\\\n\t 58 & Private          &  9 & Widowed            & Adm-clerical      & Female &    0 &    0 & <=50K\\\\\n\\end{tabular}\n",
            "text/plain": [
              "     age workclass        education marital-status        occupation       \n",
              "1    50  Self-emp-not-inc 13        Married-civ-spouse    Exec-managerial  \n",
              "2    49  Private           5        Married-spouse-absent Other-service    \n",
              "3    52  Self-emp-not-inc  9        Married-civ-spouse    Exec-managerial  \n",
              "4    43  Private           7        Married-civ-spouse    Transport-moving \n",
              "5    54  ?                10        Married-civ-spouse    ?                \n",
              "6    44  Private          14        Divorced              Exec-managerial  \n",
              "7    50  Federal-gov      13        Divorced              Exec-managerial  \n",
              "8    47  Self-emp-inc      9        Divorced              Exec-managerial  \n",
              "9    43  Private          10        Married-civ-spouse    Tech-support     \n",
              "10   53  Private           9        Married-civ-spouse    Adm-clerical     \n",
              "11   79  Private          10        Married-civ-spouse    Prof-specialty   \n",
              "12   52  Private          13        Married-civ-spouse    Other-service    \n",
              "13   59  Private           9        Married-civ-spouse    Sales            \n",
              "14   44  Private           9        Divorced              Craft-repair     \n",
              "15   49  Local-gov         9        Married-civ-spouse    Protective-serv  \n",
              "16   43  Federal-gov      16        Never-married         Prof-specialty   \n",
              "17   76  Private          14        Married-civ-spouse    Exec-managerial  \n",
              "18   44  Private          13        Married-civ-spouse    Exec-managerial  \n",
              "19   47  Self-emp-not-inc 14        Never-married         Prof-specialty   \n",
              "20   42  Private           9        Married-civ-spouse    Handlers-cleaners\n",
              "21   53  Private           5        Married-civ-spouse    Handlers-cleaners\n",
              "22   56  Self-emp-inc     10        Married-civ-spouse    Sales            \n",
              "23   49  Local-gov        11        Married-civ-spouse    Craft-repair     \n",
              "24   49  Private          10        Married-civ-spouse    Craft-repair     \n",
              "25   61  Self-emp-inc      9        Married-civ-spouse    Craft-repair     \n",
              "26   45  Private          11        Never-married         Prof-specialty   \n",
              "27   52  ?                 9        Divorced              ?                \n",
              "28   71  Self-emp-not-inc 10        Separated             Sales            \n",
              "29   68  ?                 2        Divorced              ?                \n",
              "30   46  State-gov        14        Widowed               Protective-serv  \n",
              "⋮    ⋮   ⋮                ⋮         ⋮                     ⋮                \n",
              "6115 53  Private          10        Married-civ-spouse    Transport-moving \n",
              "6116 51  Private           9        Married-civ-spouse    Craft-repair     \n",
              "6117 53  Private           9        Widowed               Machine-op-inspct\n",
              "6118 61  Private           4        Married-civ-spouse    Craft-repair     \n",
              "6119 44  Self-emp-inc     14        Married-civ-spouse    Sales            \n",
              "6120 85  Private          13        Married-civ-spouse    Exec-managerial  \n",
              "6121 62  Private           9        Widowed               Adm-clerical     \n",
              "6122 48  Self-emp-inc      9        Married-civ-spouse    Craft-repair     \n",
              "6123 58  Local-gov         9        Married-civ-spouse    Other-service    \n",
              "6124 66  Private           9        Widowed               Exec-managerial  \n",
              "6125 58  Self-emp-inc     16        Never-married         Prof-specialty   \n",
              "6126 50  Private          16        Divorced              Prof-specialty   \n",
              "6127 49  ?                 8        Divorced              ?                \n",
              "6128 64  State-gov         4        Married-civ-spouse    Other-service    \n",
              "6129 41  Private          14        Married-civ-spouse    Exec-managerial  \n",
              "6130 52  Private          11        Separated             Sales            \n",
              "6131 42  Self-emp-not-inc  9        Divorced              Sales            \n",
              "6132 82  ?                 9        Never-married         ?                \n",
              "6133 57  Private           9        Married-civ-spouse    Transport-moving \n",
              "6134 71  Private           5        Married-civ-spouse    Other-service    \n",
              "6135 45  Private           6        Divorced              Other-service    \n",
              "6136 46  Private          14        Married-civ-spouse    Prof-specialty   \n",
              "6137 66  Federal-gov       6        Married-civ-spouse    Craft-repair     \n",
              "6138 46  Private          10        Married-civ-spouse    Exec-managerial  \n",
              "6139 58  Private           7        Married-civ-spouse    Sales            \n",
              "6140 45  Local-gov        12        Divorced              Prof-specialty   \n",
              "6141 65  Self-emp-not-inc 15        Never-married         Prof-specialty   \n",
              "6142 43  State-gov        10        Divorced              Adm-clerical     \n",
              "6143 43  Self-emp-not-inc 10        Married-civ-spouse    Craft-repair     \n",
              "6144 58  Private           9        Widowed               Adm-clerical     \n",
              "     sex    capital-gain capital-loss income\n",
              "1    Male       0           0         <=50K \n",
              "2    Female     0           0         <=50K \n",
              "3    Male       0           0         >50K  \n",
              "4    Male       0        2042         <=50K \n",
              "5    Male       0           0         >50K  \n",
              "6    Female     0           0         <=50K \n",
              "7    Male       0           0         >50K  \n",
              "8    Male       0           0         <=50K \n",
              "9    Male       0           0         >50K  \n",
              "10   Female     0           0         >50K  \n",
              "11   Male       0           0         <=50K \n",
              "12   Male       0           0         <=50K \n",
              "13   Male       0           0         <=50K \n",
              "14   Female 14344           0         >50K  \n",
              "15   Male       0           0         >50K  \n",
              "16   Female     0           0         >50K  \n",
              "17   Male       0           0         >50K  \n",
              "18   Male   15024           0         >50K  \n",
              "19   Female     0           0         <=50K \n",
              "20   Male       0           0         <=50K \n",
              "21   Male       0           0         <=50K \n",
              "22   Male       0           0         <=50K \n",
              "23   Male       0           0         >50K  \n",
              "24   Male       0           0         >50K  \n",
              "25   Male       0           0         <=50K \n",
              "26   Female     0        1564         >50K  \n",
              "27   Male       0           0         >50K  \n",
              "28   Male       0        1816         <=50K \n",
              "29   Female     0           0         <=50K \n",
              "30   Male       0           0         <=50K \n",
              "⋮    ⋮      ⋮            ⋮            ⋮     \n",
              "6115 Male      0         1887         >50K  \n",
              "6116 Male      0            0         <=50K \n",
              "6117 Female    0            0         <=50K \n",
              "6118 Male      0            0         <=50K \n",
              "6119 Male      0            0         >50K  \n",
              "6120 Male      0            0         <=50K \n",
              "6121 Female    0            0         <=50K \n",
              "6122 Male   7298            0         >50K  \n",
              "6123 Male      0            0         <=50K \n",
              "6124 Female    0            0         <=50K \n",
              "6125 Female    0            0         <=50K \n",
              "6126 Female    0            0         <=50K \n",
              "6127 Male      0            0         <=50K \n",
              "6128 Female    0            0         <=50K \n",
              "6129 Male      0            0         >50K  \n",
              "6130 Female    0            0         <=50K \n",
              "6131 Male      0            0         <=50K \n",
              "6132 Male      0            0         <=50K \n",
              "6133 Male      0            0         <=50K \n",
              "6134 Male      0            0         <=50K \n",
              "6135 Female    0            0         <=50K \n",
              "6136 Female    0            0         >50K  \n",
              "6137 Male   3471            0         <=50K \n",
              "6138 Male      0            0         >50K  \n",
              "6139 Male      0            0         <=50K \n",
              "6140 Female    0            0         <=50K \n",
              "6141 Male   1086            0         <=50K \n",
              "6142 Female    0            0         <=50K \n",
              "6143 Male      0            0         <=50K \n",
              "6144 Female    0            0         <=50K "
            ]
          },
          "metadata": {}
        }
      ]
    },
    {
      "cell_type": "markdown",
      "source": [
        "**Cross tabulation of Sex and Marital Status: Adults Over 40**"
      ],
      "metadata": {
        "id": "O9JHsfGeCyNj"
      }
    },
    {
      "cell_type": "code",
      "source": [
        "r_crosstab <- table(adultOver40$`marital-status`, adultOver40$sex)\n",
        "\n",
        "ftable(r_crosstab)"
      ],
      "metadata": {
        "colab": {
          "base_uri": "https://localhost:8080/",
          "height": 156
        },
        "id": "pGqyfKRhfCtt",
        "outputId": "7427b184-02cd-4db2-ff95-75eb4a7c2ebf"
      },
      "execution_count": null,
      "outputs": [
        {
          "output_type": "display_data",
          "data": {
            "text/plain": [
              "                       Female Male\n",
              "                                  \n",
              "Divorced                  720  448\n",
              "Married-civ-spouse        305 3383\n",
              "Married-spouse-absent      38   47\n",
              "Never-married             256  315\n",
              "Separated                 133   74\n",
              "Widowed                   354   71"
            ]
          },
          "metadata": {}
        }
      ]
    },
    {
      "cell_type": "markdown",
      "source": [
        "**Determine whether any outliers exist for the education field**"
      ],
      "metadata": {
        "id": "OrPz1lJi247u"
      }
    },
    {
      "cell_type": "code",
      "source": [
        "table(adult_trainingDF$education)"
      ],
      "metadata": {
        "colab": {
          "base_uri": "https://localhost:8080/",
          "height": 69
        },
        "id": "yniX8mKx3Hhi",
        "outputId": "f4101cd9-5873-4430-dfd6-abf51e744f7f"
      },
      "execution_count": null,
      "outputs": [
        {
          "output_type": "display_data",
          "data": {
            "text/plain": [
              "\n",
              "   1    2    3    4    5    6    7    8    9   10   11   12   13   14   15   16 \n",
              "  24   89  156  283  263  423  534  183 4777 3323  599  478 2405  788  266  206 "
            ]
          },
          "metadata": {}
        }
      ]
    },
    {
      "cell_type": "code",
      "source": [
        "hist(adult_trainingDF$education, col=\"blue\")"
      ],
      "metadata": {
        "colab": {
          "base_uri": "https://localhost:8080/",
          "height": 437
        },
        "id": "BG3lgHQg4z38",
        "outputId": "19020e06-7a51-412b-b9e6-205cd35c5aef"
      },
      "execution_count": null,
      "outputs": [
        {
          "output_type": "display_data",
          "data": {
            "text/plain": [
              "Plot with title “Histogram of adult_trainingDF$education”"
            ],
            "image/png": "[encoded data removed]"
          },
          "metadata": {
            "image/png": {
              "width": 420,
              "height": 420
            }
          }
        }
      ]
    },
    {
      "cell_type": "code",
      "source": [
        "summary(adult_trainingDF$education)"
      ],
      "metadata": {
        "colab": {
          "base_uri": "https://localhost:8080/",
          "height": 52
        },
        "id": "SKK4JJWC47mB",
        "outputId": "c66d682f-cc7c-433d-8c20-2265d550d0b4"
      },
      "execution_count": null,
      "outputs": [
        {
          "output_type": "display_data",
          "data": {
            "text/plain": [
              "   Min. 1st Qu.  Median    Mean 3rd Qu.    Max. \n",
              "   1.00    9.00   10.00   10.07   12.00   16.00 "
            ]
          },
          "metadata": {}
        }
      ]
    },
    {
      "cell_type": "code",
      "source": [
        "boxplot(adult_trainingDF$education, col=\"yellow\", xlab=\"Education\")"
      ],
      "metadata": {
        "colab": {
          "base_uri": "https://localhost:8080/",
          "height": 437
        },
        "id": "A4QBd3aJpqED",
        "outputId": "dc5f8b2a-d6df-4fae-e239-c01fdc5c0166"
      },
      "execution_count": null,
      "outputs": [
        {
          "output_type": "display_data",
          "data": {
            "text/plain": [
              "plot without title"
            ],
            "image/png": "[encoded data removed]"
          },
          "metadata": {
            "image/png": {
              "width": 420,
              "height": 420
            }
          }
        }
      ]
    },
    {
      "cell_type": "markdown",
      "source": [
        "The outliers that exists for the educaiton field are values 1-4."
      ],
      "metadata": {
        "id": "oz_ey3j4qitU"
      }
    },
    {
      "cell_type": "markdown",
      "source": [
        "**Standardize (zero mean) the age variable, and identify how many outliers there are. What is the most extreme outlier?**"
      ],
      "metadata": {
        "id": "v4GovkifKefk"
      }
    },
    {
      "cell_type": "code",
      "source": [
        "adult_trainingDF$scaled_age <- scale(x = adult_trainingDF$age)\n",
        "\n",
        "summary(adult_trainingDF$scaled_age)"
      ],
      "metadata": {
        "colab": {
          "base_uri": "https://localhost:8080/",
          "height": 138
        },
        "id": "ITTZEbsiKycq",
        "outputId": "e02e3d38-790f-4caa-bf0f-883eed778e1c"
      },
      "execution_count": null,
      "outputs": [
        {
          "output_type": "display_data",
          "data": {
            "text/plain": [
              "       V1         \n",
              " Min.   :-1.5855  \n",
              " 1st Qu.:-0.7813  \n",
              " Median :-0.1234  \n",
              " Mean   : 0.0000  \n",
              " 3rd Qu.: 0.6808  \n",
              " Max.   : 3.7512  "
            ]
          },
          "metadata": {}
        }
      ]
    },
    {
      "cell_type": "code",
      "source": [
        "# Determine the three sigma rule first for the scaled_age attribute\n",
        "\n",
        "three_sigma_rule <- (adult_trainingDF$scaled_age < -3 |\n",
        "                     adult_trainingDF$scaled_age > 3 )\n",
        "\n",
        "# how many outliers are there?\n",
        "cat (\"There are\", sum(three_sigma_rule), \"outliers \\n\\n\")"
      ],
      "metadata": {
        "colab": {
          "base_uri": "https://localhost:8080/",
          "height": 260
        },
        "id": "f56HntFuNYF4",
        "outputId": "95327b0c-bada-4199-899b-f7411b909af8"
      },
      "execution_count": null,
      "outputs": [
        {
          "output_type": "stream",
          "name": "stdout",
          "text": [
            "There are 60 outliers \n",
            "\n",
            "The scaled age values that are outliers: \n",
            "\n"
          ]
        },
        {
          "output_type": "display_data",
          "data": {
            "text/html": [
              "<style>\n",
              ".list-inline {list-style: none; margin:0; padding: 0}\n",
              ".list-inline>li {display: inline-block}\n",
              ".list-inline>li:not(:last-child)::after {content: \"\\00b7\"; padding: 0 .5ex}\n",
              "</style>\n",
              "<ol class=list-inline><li>3.75122696731239</li><li>3.02017267536798</li><li>3.75122696731239</li><li>3.6050161089235</li><li>3.75122696731239</li><li>3.75122696731239</li><li>3.16638353375686</li><li>3.75122696731239</li><li>3.02017267536798</li><li>3.75122696731239</li><li>3.75122696731239</li><li>3.2394889629513</li><li>3.38569982134018</li><li>3.16638353375686</li><li>3.02017267536798</li><li>3.75122696731239</li><li>3.02017267536798</li><li>3.75122696731239</li><li>3.31259439214574</li><li>3.75122696731239</li><li>3.75122696731239</li><li>3.31259439214574</li><li>3.02017267536798</li><li>3.75122696731239</li><li>3.31259439214574</li><li>3.75122696731239</li><li>3.09327810456242</li><li>3.02017267536798</li><li>3.02017267536798</li><li>3.75122696731239</li><li>3.02017267536798</li><li>3.75122696731239</li><li>3.2394889629513</li><li>3.16638353375686</li><li>3.75122696731239</li><li>3.75122696731239</li><li>3.16638353375686</li><li>3.38569982134018</li><li>3.09327810456242</li><li>3.09327810456242</li><li>3.75122696731239</li><li>3.16638353375686</li><li>3.6050161089235</li><li>3.31259439214574</li><li>3.45880525053462</li><li>3.75122696731239</li><li>3.16638353375686</li><li>3.09327810456242</li><li>3.75122696731239</li><li>3.02017267536798</li><li>3.31259439214574</li><li>3.75122696731239</li><li>3.09327810456242</li><li>3.75122696731239</li><li>3.53191067972906</li><li>3.02017267536798</li><li>3.16638353375686</li><li>3.75122696731239</li><li>3.38569982134018</li><li>3.16638353375686</li></ol>\n"
            ],
            "text/markdown": "1. 3.75122696731239\n2. 3.02017267536798\n3. 3.75122696731239\n4. 3.6050161089235\n5. 3.75122696731239\n6. 3.75122696731239\n7. 3.16638353375686\n8. 3.75122696731239\n9. 3.02017267536798\n10. 3.75122696731239\n11. 3.75122696731239\n12. 3.2394889629513\n13. 3.38569982134018\n14. 3.16638353375686\n15. 3.02017267536798\n16. 3.75122696731239\n17. 3.02017267536798\n18. 3.75122696731239\n19. 3.31259439214574\n20. 3.75122696731239\n21. 3.75122696731239\n22. 3.31259439214574\n23. 3.02017267536798\n24. 3.75122696731239\n25. 3.31259439214574\n26. 3.75122696731239\n27. 3.09327810456242\n28. 3.02017267536798\n29. 3.02017267536798\n30. 3.75122696731239\n31. 3.02017267536798\n32. 3.75122696731239\n33. 3.2394889629513\n34. 3.16638353375686\n35. 3.75122696731239\n36. 3.75122696731239\n37. 3.16638353375686\n38. 3.38569982134018\n39. 3.09327810456242\n40. 3.09327810456242\n41. 3.75122696731239\n42. 3.16638353375686\n43. 3.6050161089235\n44. 3.31259439214574\n45. 3.45880525053462\n46. 3.75122696731239\n47. 3.16638353375686\n48. 3.09327810456242\n49. 3.75122696731239\n50. 3.02017267536798\n51. 3.31259439214574\n52. 3.75122696731239\n53. 3.09327810456242\n54. 3.75122696731239\n55. 3.53191067972906\n56. 3.02017267536798\n57. 3.16638353375686\n58. 3.75122696731239\n59. 3.38569982134018\n60. 3.16638353375686\n\n\n",
            "text/latex": "\\begin{enumerate*}\n\\item 3.75122696731239\n\\item 3.02017267536798\n\\item 3.75122696731239\n\\item 3.6050161089235\n\\item 3.75122696731239\n\\item 3.75122696731239\n\\item 3.16638353375686\n\\item 3.75122696731239\n\\item 3.02017267536798\n\\item 3.75122696731239\n\\item 3.75122696731239\n\\item 3.2394889629513\n\\item 3.38569982134018\n\\item 3.16638353375686\n\\item 3.02017267536798\n\\item 3.75122696731239\n\\item 3.02017267536798\n\\item 3.75122696731239\n\\item 3.31259439214574\n\\item 3.75122696731239\n\\item 3.75122696731239\n\\item 3.31259439214574\n\\item 3.02017267536798\n\\item 3.75122696731239\n\\item 3.31259439214574\n\\item 3.75122696731239\n\\item 3.09327810456242\n\\item 3.02017267536798\n\\item 3.02017267536798\n\\item 3.75122696731239\n\\item 3.02017267536798\n\\item 3.75122696731239\n\\item 3.2394889629513\n\\item 3.16638353375686\n\\item 3.75122696731239\n\\item 3.75122696731239\n\\item 3.16638353375686\n\\item 3.38569982134018\n\\item 3.09327810456242\n\\item 3.09327810456242\n\\item 3.75122696731239\n\\item 3.16638353375686\n\\item 3.6050161089235\n\\item 3.31259439214574\n\\item 3.45880525053462\n\\item 3.75122696731239\n\\item 3.16638353375686\n\\item 3.09327810456242\n\\item 3.75122696731239\n\\item 3.02017267536798\n\\item 3.31259439214574\n\\item 3.75122696731239\n\\item 3.09327810456242\n\\item 3.75122696731239\n\\item 3.53191067972906\n\\item 3.02017267536798\n\\item 3.16638353375686\n\\item 3.75122696731239\n\\item 3.38569982134018\n\\item 3.16638353375686\n\\end{enumerate*}\n",
            "text/plain": [
              " [1] 3.751227 3.020173 3.751227 3.605016 3.751227 3.751227 3.166384 3.751227\n",
              " [9] 3.020173 3.751227 3.751227 3.239489 3.385700 3.166384 3.020173 3.751227\n",
              "[17] 3.020173 3.751227 3.312594 3.751227 3.751227 3.312594 3.020173 3.751227\n",
              "[25] 3.312594 3.751227 3.093278 3.020173 3.020173 3.751227 3.020173 3.751227\n",
              "[33] 3.239489 3.166384 3.751227 3.751227 3.166384 3.385700 3.093278 3.093278\n",
              "[41] 3.751227 3.166384 3.605016 3.312594 3.458805 3.751227 3.166384 3.093278\n",
              "[49] 3.751227 3.020173 3.312594 3.751227 3.093278 3.751227 3.531911 3.020173\n",
              "[57] 3.166384 3.751227 3.385700 3.166384"
            ]
          },
          "metadata": {}
        }
      ]
    },
    {
      "cell_type": "markdown",
      "source": [
        "There are 60 outliers after standardizing the age variable."
      ],
      "metadata": {
        "id": "Amdhus8xU9kG"
      }
    },
    {
      "cell_type": "code",
      "metadata": {
        "colab": {
          "base_uri": "https://localhost:8080/"
        },
        "id": "16f37c4b",
        "outputId": "0f02af27-e907-41f5-fb8d-419f9fe00a0a"
      },
      "source": [
        "# Most Extreme Outliers of Scaled Age\n",
        "scaled_age_outlier <- adult_trainingDF$scaled_age[which(three_sigma_rule)]\n",
        "\n",
        "most_extreme_outlier <- max(abs(scaled_age_outlier))\n",
        "\n",
        "cat(\"The most extreme outlier is:\", most_extreme_outlier)"
      ],
      "execution_count": null,
      "outputs": [
        {
          "output_type": "stream",
          "name": "stdout",
          "text": [
            "The most extreme outlier is: 3.751227"
          ]
        }
      ]
    },
    {
      "cell_type": "markdown",
      "source": [
        "The most extreme oultier is 3.75"
      ],
      "metadata": {
        "id": "gSxLGREKvEQK"
      }
    },
    {
      "cell_type": "markdown",
      "source": [
        "**Age anomaly? Select only records with age at least 80, and construct a histogram of age. Explain what you see.**"
      ],
      "metadata": {
        "id": "GDOX2X_lvHtd"
      }
    },
    {
      "cell_type": "code",
      "source": [
        "adultAtLeast80 = adult_trainingDF[adult_trainingDF$age >= 80, ]\n",
        "\n",
        "hist(adultAtLeast80$age, col=\"blue\")"
      ],
      "metadata": {
        "colab": {
          "base_uri": "https://localhost:8080/",
          "height": 437
        },
        "id": "tk4Mmpe6vXmT",
        "outputId": "0b39df82-7583-478f-ec8a-8455da0bfd4d"
      },
      "execution_count": null,
      "outputs": [
        {
          "output_type": "display_data",
          "data": {
            "text/plain": [
              "Plot with title “Histogram of adultAtLeast80$age”"
            ],
            "image/png": "[encoded data removed]"
          },
          "metadata": {
            "image/png": {
              "width": 420,
              "height": 420
            }
          }
        }
      ]
    },
    {
      "cell_type": "markdown",
      "source": [
        "After observing the histogram that includes only individuals 80 and above, there is an increased spike of individuals who are 90. Over 20 indiviudals compared to 10 or less when compared to the other ages of this dataset.\n",
        "\n",
        "In comparison to my version in python, there is a discrepency between the 80 values being higher in the R verison even though they should display the same results."
      ],
      "metadata": {
        "id": "bEMRBltVwjQ5"
      }
    },
    {
      "cell_type": "markdown",
      "source": [
        "The largest group from this study is from Male Spouses married to civilians(6010). This number is the same when looking at individuals over 40 (3383)\n",
        "\n",
        "For education, a majority of the data consists of schooling from 9-12 years, with the median being 10 years of schooling.\n",
        "\n",
        "Ages 15-45 have the most individuals who are part of this data set. This range includes 2500 or more individuals from the dataset. From there, this number steadily declines. However, from our Over 80 search, we see that there is a spike with individuals who are 90 years of age. Although this is a smaller number when compared with the overall age data, this could still be an outlier to study.\n",
        "\n",
        "\n",
        "\n"
      ],
      "metadata": {
        "id": "4gEL4ydcySaR"
      }
    }
  ]
}